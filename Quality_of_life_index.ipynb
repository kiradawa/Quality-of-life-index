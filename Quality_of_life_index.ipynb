{
  "nbformat": 4,
  "nbformat_minor": 0,
  "metadata": {
    "colab": {
      "provenance": [],
      "collapsed_sections": [],
      "toc_visible": true,
      "include_colab_link": true
    },
    "kernelspec": {
      "name": "python3",
      "display_name": "Python 3"
    },
    "language_info": {
      "name": "python"
    }
  },
  "cells": [
    {
      "cell_type": "markdown",
      "metadata": {
        "id": "view-in-github",
        "colab_type": "text"
      },
      "source": [
        "<a href=\"https://colab.research.google.com/github/kiradawa/Quality-of-life-index/blob/main/Quality_of_life_index.ipynb\" target=\"_parent\"><img src=\"https://colab.research.google.com/assets/colab-badge.svg\" alt=\"Open In Colab\"/></a>"
      ]
    },
    {
      "cell_type": "markdown",
      "metadata": {
        "id": "kWg4wgJpHycl"
      },
      "source": [
        "#Mahmood Yaghi (202011134)\n",
        "#Mohammad Zaiter (202011465)"
      ]
    },
    {
      "cell_type": "code",
      "metadata": {
        "colab": {
          "resources": {
            "http://localhost:8080/nbextensions/google.colab/files.js": {
              "data": "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",
              "ok": true,
              "headers": [
                [
                  "content-type",
                  "application/javascript"
                ]
              ],
              "status": 200,
              "status_text": ""
            }
          },
          "base_uri": "https://localhost:8080/",
          "height": 107
        },
        "id": "xtcZNWcVHsI7",
        "outputId": "050ac5d9-0a01-43d3-da94-bdfe1ef883cd"
      },
      "source": [
        "from google.colab import files\n",
        "uploaded = files.upload()"
      ],
      "execution_count": null,
      "outputs": [
        {
          "output_type": "display_data",
          "data": {
            "text/html": [
              "\n",
              "     <input type=\"file\" id=\"files-4d5c2618-e1d2-4afb-9a31-7ef6ab70c709\" name=\"files[]\" multiple disabled\n",
              "        style=\"border:none\" />\n",
              "     <output id=\"result-4d5c2618-e1d2-4afb-9a31-7ef6ab70c709\">\n",
              "      Upload widget is only available when the cell has been executed in the\n",
              "      current browser session. Please rerun this cell to enable.\n",
              "      </output>\n",
              "      <script src=\"/nbextensions/google.colab/files.js\"></script> "
            ],
            "text/plain": [
              "<IPython.core.display.HTML object>"
            ]
          },
          "metadata": {}
        },
        {
          "output_type": "stream",
          "name": "stdout",
          "text": [
            "Saving cities_pollution.csv to cities_pollution.csv\n",
            "Saving countries_index.csv to countries_index.csv\n"
          ]
        }
      ]
    },
    {
      "cell_type": "code",
      "metadata": {
        "id": "uKxGMnLebLKW"
      },
      "source": [
        "#importing needed libaries\n",
        "import pandas as pd\n",
        "import matplotlib.pyplot as plt\n",
        "import seaborn as sns\n",
        "import numpy as np"
      ],
      "execution_count": null,
      "outputs": []
    },
    {
      "cell_type": "markdown",
      "metadata": {
        "id": "6BGK6or8uuuM"
      },
      "source": [
        "#loading"
      ]
    },
    {
      "cell_type": "code",
      "metadata": {
        "colab": {
          "base_uri": "https://localhost:8080/",
          "height": 424
        },
        "id": "_HNhcL7rIZKf",
        "outputId": "74c369fa-8d8b-4ece-9477-ba5a83b8081f"
      },
      "source": [
        "# loading the datasets\n",
        "data1 = pd.read_csv ('/content/countries_index.csv')\n",
        "data2 = pd.read_csv ('/content/cities_pollution.csv')\n",
        "data1"
      ],
      "execution_count": null,
      "outputs": [
        {
          "output_type": "execute_result",
          "data": {
            "text/html": [
              "<div>\n",
              "<style scoped>\n",
              "    .dataframe tbody tr th:only-of-type {\n",
              "        vertical-align: middle;\n",
              "    }\n",
              "\n",
              "    .dataframe tbody tr th {\n",
              "        vertical-align: top;\n",
              "    }\n",
              "\n",
              "    .dataframe thead th {\n",
              "        text-align: right;\n",
              "    }\n",
              "</style>\n",
              "<table border=\"1\" class=\"dataframe\">\n",
              "  <thead>\n",
              "    <tr style=\"text-align: right;\">\n",
              "      <th></th>\n",
              "      <th>Name</th>\n",
              "      <th>\"NativeName\"</th>\n",
              "      <th>\"QualityOfLifeIndex\"</th>\n",
              "    </tr>\n",
              "  </thead>\n",
              "  <tbody>\n",
              "    <tr>\n",
              "      <th>0</th>\n",
              "      <td>Canada</td>\n",
              "      <td>\"Canada\"</td>\n",
              "      <td>159.511902</td>\n",
              "    </tr>\n",
              "    <tr>\n",
              "      <th>1</th>\n",
              "      <td>Japan</td>\n",
              "      <td>\"日本\"</td>\n",
              "      <td>165.326905</td>\n",
              "    </tr>\n",
              "    <tr>\n",
              "      <th>2</th>\n",
              "      <td>Norway</td>\n",
              "      <td>\"Kongeriket Norge\"</td>\n",
              "      <td>173.158166</td>\n",
              "    </tr>\n",
              "    <tr>\n",
              "      <th>3</th>\n",
              "      <td>Ireland</td>\n",
              "      <td>\"Eire\"</td>\n",
              "      <td>153.182191</td>\n",
              "    </tr>\n",
              "    <tr>\n",
              "      <th>4</th>\n",
              "      <td>Hungary</td>\n",
              "      <td>\"Magyarorszag\"</td>\n",
              "      <td>135.343937</td>\n",
              "    </tr>\n",
              "    <tr>\n",
              "      <th>...</th>\n",
              "      <td>...</td>\n",
              "      <td>...</td>\n",
              "      <td>...</td>\n",
              "    </tr>\n",
              "    <tr>\n",
              "      <th>110</th>\n",
              "      <td>Cote d'Ivoire</td>\n",
              "      <td>\"Republique de Cote d'Ivoire\"</td>\n",
              "      <td>24.341801</td>\n",
              "    </tr>\n",
              "    <tr>\n",
              "      <th>111</th>\n",
              "      <td>Morocco</td>\n",
              "      <td>\"المغرب\"</td>\n",
              "      <td>106.065829</td>\n",
              "    </tr>\n",
              "    <tr>\n",
              "      <th>112</th>\n",
              "      <td>Nigeria</td>\n",
              "      <td>\"Nijeriya\"</td>\n",
              "      <td>53.089911</td>\n",
              "    </tr>\n",
              "    <tr>\n",
              "      <th>113</th>\n",
              "      <td>Kingdom of the Netherlands</td>\n",
              "      <td>\"Koninkrijk der Nederlanden\"</td>\n",
              "      <td>182.535902</td>\n",
              "    </tr>\n",
              "    <tr>\n",
              "      <th>114</th>\n",
              "      <td>Danish Realm</td>\n",
              "      <td>\"Kongeriget Danmark\"</td>\n",
              "      <td>188.635667</td>\n",
              "    </tr>\n",
              "  </tbody>\n",
              "</table>\n",
              "<p>115 rows × 3 columns</p>\n",
              "</div>"
            ],
            "text/plain": [
              "                           Name  ...  \"QualityOfLifeIndex\"\n",
              "0                        Canada  ...            159.511902\n",
              "1                         Japan  ...            165.326905\n",
              "2                        Norway  ...            173.158166\n",
              "3                       Ireland  ...            153.182191\n",
              "4                       Hungary  ...            135.343937\n",
              "..                          ...  ...                   ...\n",
              "110               Cote d'Ivoire  ...             24.341801\n",
              "111                     Morocco  ...            106.065829\n",
              "112                     Nigeria  ...             53.089911\n",
              "113  Kingdom of the Netherlands  ...            182.535902\n",
              "114                Danish Realm  ...            188.635667\n",
              "\n",
              "[115 rows x 3 columns]"
            ]
          },
          "metadata": {},
          "execution_count": 3
        }
      ]
    },
    {
      "cell_type": "code",
      "metadata": {
        "colab": {
          "base_uri": "https://localhost:8080/",
          "height": 424
        },
        "id": "eZndpEYpahbD",
        "outputId": "f090d96d-1144-4a8d-c459-fe54494cc7f2"
      },
      "source": [
        "data2"
      ],
      "execution_count": null,
      "outputs": [
        {
          "output_type": "execute_result",
          "data": {
            "text/html": [
              "<div>\n",
              "<style scoped>\n",
              "    .dataframe tbody tr th:only-of-type {\n",
              "        vertical-align: middle;\n",
              "    }\n",
              "\n",
              "    .dataframe tbody tr th {\n",
              "        vertical-align: top;\n",
              "    }\n",
              "\n",
              "    .dataframe thead th {\n",
              "        text-align: right;\n",
              "    }\n",
              "</style>\n",
              "<table border=\"1\" class=\"dataframe\">\n",
              "  <thead>\n",
              "    <tr style=\"text-align: right;\">\n",
              "      <th></th>\n",
              "      <th>City</th>\n",
              "      <th>\"Region\"</th>\n",
              "      <th>\"Country\"</th>\n",
              "      <th>\"AirQuality\"</th>\n",
              "      <th>\"WaterPollution\"</th>\n",
              "    </tr>\n",
              "  </thead>\n",
              "  <tbody>\n",
              "    <tr>\n",
              "      <th>0</th>\n",
              "      <td>New York City</td>\n",
              "      <td>\"New York\"</td>\n",
              "      <td>\"United States of America\"</td>\n",
              "      <td>46.816038</td>\n",
              "      <td>49.504950</td>\n",
              "    </tr>\n",
              "    <tr>\n",
              "      <th>1</th>\n",
              "      <td>Washington, D.C.</td>\n",
              "      <td>\"District of Columbia\"</td>\n",
              "      <td>\"United States of America\"</td>\n",
              "      <td>66.129032</td>\n",
              "      <td>49.107143</td>\n",
              "    </tr>\n",
              "    <tr>\n",
              "      <th>2</th>\n",
              "      <td>San Francisco</td>\n",
              "      <td>\"California\"</td>\n",
              "      <td>\"United States of America\"</td>\n",
              "      <td>60.514019</td>\n",
              "      <td>43.000000</td>\n",
              "    </tr>\n",
              "    <tr>\n",
              "      <th>3</th>\n",
              "      <td>Berlin</td>\n",
              "      <td>\"\"</td>\n",
              "      <td>\"Germany\"</td>\n",
              "      <td>62.364130</td>\n",
              "      <td>28.612717</td>\n",
              "    </tr>\n",
              "    <tr>\n",
              "      <th>4</th>\n",
              "      <td>Los Angeles</td>\n",
              "      <td>\"California\"</td>\n",
              "      <td>\"United States of America\"</td>\n",
              "      <td>36.621622</td>\n",
              "      <td>61.299435</td>\n",
              "    </tr>\n",
              "    <tr>\n",
              "      <th>...</th>\n",
              "      <td>...</td>\n",
              "      <td>...</td>\n",
              "      <td>...</td>\n",
              "      <td>...</td>\n",
              "      <td>...</td>\n",
              "    </tr>\n",
              "    <tr>\n",
              "      <th>3958</th>\n",
              "      <td>Yanbu</td>\n",
              "      <td>\"Medina Province\"</td>\n",
              "      <td>\"Saudi Arabia\"</td>\n",
              "      <td>0.000000</td>\n",
              "      <td>50.000000</td>\n",
              "    </tr>\n",
              "    <tr>\n",
              "      <th>3959</th>\n",
              "      <td>Cordoba</td>\n",
              "      <td>\"Andalusia\"</td>\n",
              "      <td>\"Spain\"</td>\n",
              "      <td>85.714286</td>\n",
              "      <td>8.333333</td>\n",
              "    </tr>\n",
              "    <tr>\n",
              "      <th>3960</th>\n",
              "      <td>Vic</td>\n",
              "      <td>\"Catalonia\"</td>\n",
              "      <td>\"Spain\"</td>\n",
              "      <td>100.000000</td>\n",
              "      <td>0.000000</td>\n",
              "    </tr>\n",
              "    <tr>\n",
              "      <th>3961</th>\n",
              "      <td>Segovia</td>\n",
              "      <td>\"Castile and Leon\"</td>\n",
              "      <td>\"Spain\"</td>\n",
              "      <td>100.000000</td>\n",
              "      <td>0.000000</td>\n",
              "    </tr>\n",
              "    <tr>\n",
              "      <th>3962</th>\n",
              "      <td>Zamora city</td>\n",
              "      <td>\"Castile and Leon\"</td>\n",
              "      <td>\"Spain\"</td>\n",
              "      <td>100.000000</td>\n",
              "      <td>50.000000</td>\n",
              "    </tr>\n",
              "  </tbody>\n",
              "</table>\n",
              "<p>3963 rows × 5 columns</p>\n",
              "</div>"
            ],
            "text/plain": [
              "                  City  ...  \"WaterPollution\"\n",
              "0        New York City  ...         49.504950\n",
              "1     Washington, D.C.  ...         49.107143\n",
              "2        San Francisco  ...         43.000000\n",
              "3               Berlin  ...         28.612717\n",
              "4          Los Angeles  ...         61.299435\n",
              "...                ...  ...               ...\n",
              "3958             Yanbu  ...         50.000000\n",
              "3959           Cordoba  ...          8.333333\n",
              "3960               Vic  ...          0.000000\n",
              "3961           Segovia  ...          0.000000\n",
              "3962       Zamora city  ...         50.000000\n",
              "\n",
              "[3963 rows x 5 columns]"
            ]
          },
          "metadata": {},
          "execution_count": 4
        }
      ]
    },
    {
      "cell_type": "markdown",
      "metadata": {
        "id": "pG6fYWMnqdLt"
      },
      "source": [
        "#cleaning data 2"
      ]
    },
    {
      "cell_type": "code",
      "metadata": {
        "colab": {
          "base_uri": "https://localhost:8080/",
          "height": 424
        },
        "id": "3qUK9u-6gcuc",
        "outputId": "496fd179-084b-4c52-f400-07943e35bcf1"
      },
      "source": [
        "tbl_countries_stage2 = data2\n",
        "tbl_countries_stage2.columns = ['City', 'Region','Country','AirQuality','WaterPollution']\n",
        "tbl_countries_stage2=tbl_countries_stage2.drop(columns = ['Region'])\n",
        "tbl_countries_stage2"
      ],
      "execution_count": null,
      "outputs": [
        {
          "output_type": "execute_result",
          "data": {
            "text/html": [
              "<div>\n",
              "<style scoped>\n",
              "    .dataframe tbody tr th:only-of-type {\n",
              "        vertical-align: middle;\n",
              "    }\n",
              "\n",
              "    .dataframe tbody tr th {\n",
              "        vertical-align: top;\n",
              "    }\n",
              "\n",
              "    .dataframe thead th {\n",
              "        text-align: right;\n",
              "    }\n",
              "</style>\n",
              "<table border=\"1\" class=\"dataframe\">\n",
              "  <thead>\n",
              "    <tr style=\"text-align: right;\">\n",
              "      <th></th>\n",
              "      <th>City</th>\n",
              "      <th>Country</th>\n",
              "      <th>AirQuality</th>\n",
              "      <th>WaterPollution</th>\n",
              "    </tr>\n",
              "  </thead>\n",
              "  <tbody>\n",
              "    <tr>\n",
              "      <th>0</th>\n",
              "      <td>New York City</td>\n",
              "      <td>\"United States of America\"</td>\n",
              "      <td>46.816038</td>\n",
              "      <td>49.504950</td>\n",
              "    </tr>\n",
              "    <tr>\n",
              "      <th>1</th>\n",
              "      <td>Washington, D.C.</td>\n",
              "      <td>\"United States of America\"</td>\n",
              "      <td>66.129032</td>\n",
              "      <td>49.107143</td>\n",
              "    </tr>\n",
              "    <tr>\n",
              "      <th>2</th>\n",
              "      <td>San Francisco</td>\n",
              "      <td>\"United States of America\"</td>\n",
              "      <td>60.514019</td>\n",
              "      <td>43.000000</td>\n",
              "    </tr>\n",
              "    <tr>\n",
              "      <th>3</th>\n",
              "      <td>Berlin</td>\n",
              "      <td>\"Germany\"</td>\n",
              "      <td>62.364130</td>\n",
              "      <td>28.612717</td>\n",
              "    </tr>\n",
              "    <tr>\n",
              "      <th>4</th>\n",
              "      <td>Los Angeles</td>\n",
              "      <td>\"United States of America\"</td>\n",
              "      <td>36.621622</td>\n",
              "      <td>61.299435</td>\n",
              "    </tr>\n",
              "    <tr>\n",
              "      <th>...</th>\n",
              "      <td>...</td>\n",
              "      <td>...</td>\n",
              "      <td>...</td>\n",
              "      <td>...</td>\n",
              "    </tr>\n",
              "    <tr>\n",
              "      <th>3958</th>\n",
              "      <td>Yanbu</td>\n",
              "      <td>\"Saudi Arabia\"</td>\n",
              "      <td>0.000000</td>\n",
              "      <td>50.000000</td>\n",
              "    </tr>\n",
              "    <tr>\n",
              "      <th>3959</th>\n",
              "      <td>Cordoba</td>\n",
              "      <td>\"Spain\"</td>\n",
              "      <td>85.714286</td>\n",
              "      <td>8.333333</td>\n",
              "    </tr>\n",
              "    <tr>\n",
              "      <th>3960</th>\n",
              "      <td>Vic</td>\n",
              "      <td>\"Spain\"</td>\n",
              "      <td>100.000000</td>\n",
              "      <td>0.000000</td>\n",
              "    </tr>\n",
              "    <tr>\n",
              "      <th>3961</th>\n",
              "      <td>Segovia</td>\n",
              "      <td>\"Spain\"</td>\n",
              "      <td>100.000000</td>\n",
              "      <td>0.000000</td>\n",
              "    </tr>\n",
              "    <tr>\n",
              "      <th>3962</th>\n",
              "      <td>Zamora city</td>\n",
              "      <td>\"Spain\"</td>\n",
              "      <td>100.000000</td>\n",
              "      <td>50.000000</td>\n",
              "    </tr>\n",
              "  </tbody>\n",
              "</table>\n",
              "<p>3963 rows × 4 columns</p>\n",
              "</div>"
            ],
            "text/plain": [
              "                  City                      Country  AirQuality  WaterPollution\n",
              "0        New York City   \"United States of America\"   46.816038       49.504950\n",
              "1     Washington, D.C.   \"United States of America\"   66.129032       49.107143\n",
              "2        San Francisco   \"United States of America\"   60.514019       43.000000\n",
              "3               Berlin                    \"Germany\"   62.364130       28.612717\n",
              "4          Los Angeles   \"United States of America\"   36.621622       61.299435\n",
              "...                ...                          ...         ...             ...\n",
              "3958             Yanbu               \"Saudi Arabia\"    0.000000       50.000000\n",
              "3959           Cordoba                      \"Spain\"   85.714286        8.333333\n",
              "3960               Vic                      \"Spain\"  100.000000        0.000000\n",
              "3961           Segovia                      \"Spain\"  100.000000        0.000000\n",
              "3962       Zamora city                      \"Spain\"  100.000000       50.000000\n",
              "\n",
              "[3963 rows x 4 columns]"
            ]
          },
          "metadata": {},
          "execution_count": 5
        }
      ]
    },
    {
      "cell_type": "code",
      "metadata": {
        "colab": {
          "base_uri": "https://localhost:8080/"
        },
        "id": "YP2VmVaiYDD3",
        "outputId": "7a5812da-905a-4b45-fc10-2fb1b763e567"
      },
      "source": [
        "tbl_countries_stage2.info()"
      ],
      "execution_count": null,
      "outputs": [
        {
          "output_type": "stream",
          "name": "stdout",
          "text": [
            "<class 'pandas.core.frame.DataFrame'>\n",
            "RangeIndex: 3963 entries, 0 to 3962\n",
            "Data columns (total 4 columns):\n",
            " #   Column          Non-Null Count  Dtype  \n",
            "---  ------          --------------  -----  \n",
            " 0   City            3963 non-null   object \n",
            " 1   Country         3963 non-null   object \n",
            " 2   AirQuality      3963 non-null   float64\n",
            " 3   WaterPollution  3963 non-null   float64\n",
            "dtypes: float64(2), object(2)\n",
            "memory usage: 124.0+ KB\n"
          ]
        }
      ]
    },
    {
      "cell_type": "code",
      "metadata": {
        "colab": {
          "base_uri": "https://localhost:8080/"
        },
        "id": "oVLG9DRyaCNC",
        "outputId": "798a371c-5df0-4aa9-9eb6-c4dc179e1e3b"
      },
      "source": [
        "# missing values:\n",
        "print(tbl_countries_stage2.isna().sum())\n",
        "#duplicated values:\n",
        "print(\"Duplicated\",tbl_countries_stage2.duplicated().sum())"
      ],
      "execution_count": null,
      "outputs": [
        {
          "output_type": "stream",
          "name": "stdout",
          "text": [
            "City              0\n",
            "Country           0\n",
            "AirQuality        0\n",
            "WaterPollution    0\n",
            "dtype: int64\n",
            "Duplicated 5\n"
          ]
        }
      ]
    },
    {
      "cell_type": "code",
      "metadata": {
        "colab": {
          "base_uri": "https://localhost:8080/",
          "height": 424
        },
        "id": "B4Ir2g5zcYDQ",
        "outputId": "6df2543f-bf5d-4230-b66e-7913ad714afc"
      },
      "source": [
        "average_AirQuality = tbl_countries_stage2.groupby('Country', as_index=False).agg({'AirQuality':'mean'})\n",
        "average_AirQuality"
      ],
      "execution_count": null,
      "outputs": [
        {
          "output_type": "execute_result",
          "data": {
            "text/html": [
              "<div>\n",
              "<style scoped>\n",
              "    .dataframe tbody tr th:only-of-type {\n",
              "        vertical-align: middle;\n",
              "    }\n",
              "\n",
              "    .dataframe tbody tr th {\n",
              "        vertical-align: top;\n",
              "    }\n",
              "\n",
              "    .dataframe thead th {\n",
              "        text-align: right;\n",
              "    }\n",
              "</style>\n",
              "<table border=\"1\" class=\"dataframe\">\n",
              "  <thead>\n",
              "    <tr style=\"text-align: right;\">\n",
              "      <th></th>\n",
              "      <th>Country</th>\n",
              "      <th>AirQuality</th>\n",
              "    </tr>\n",
              "  </thead>\n",
              "  <tbody>\n",
              "    <tr>\n",
              "      <th>0</th>\n",
              "      <td>\"Afghanistan\"</td>\n",
              "      <td>37.213694</td>\n",
              "    </tr>\n",
              "    <tr>\n",
              "      <th>1</th>\n",
              "      <td>\"Albania\"</td>\n",
              "      <td>51.873625</td>\n",
              "    </tr>\n",
              "    <tr>\n",
              "      <th>2</th>\n",
              "      <td>\"Algeria\"</td>\n",
              "      <td>57.607466</td>\n",
              "    </tr>\n",
              "    <tr>\n",
              "      <th>3</th>\n",
              "      <td>\"Andorra\"</td>\n",
              "      <td>43.750000</td>\n",
              "    </tr>\n",
              "    <tr>\n",
              "      <th>4</th>\n",
              "      <td>\"Angola\"</td>\n",
              "      <td>15.000000</td>\n",
              "    </tr>\n",
              "    <tr>\n",
              "      <th>...</th>\n",
              "      <td>...</td>\n",
              "      <td>...</td>\n",
              "    </tr>\n",
              "    <tr>\n",
              "      <th>172</th>\n",
              "      <td>\"Venezuela\"</td>\n",
              "      <td>36.514509</td>\n",
              "    </tr>\n",
              "    <tr>\n",
              "      <th>173</th>\n",
              "      <td>\"Vietnam\"</td>\n",
              "      <td>44.557443</td>\n",
              "    </tr>\n",
              "    <tr>\n",
              "      <th>174</th>\n",
              "      <td>\"Yemen\"</td>\n",
              "      <td>39.583333</td>\n",
              "    </tr>\n",
              "    <tr>\n",
              "      <th>175</th>\n",
              "      <td>\"Zambia\"</td>\n",
              "      <td>45.833333</td>\n",
              "    </tr>\n",
              "    <tr>\n",
              "      <th>176</th>\n",
              "      <td>\"Zimbabwe\"</td>\n",
              "      <td>45.329670</td>\n",
              "    </tr>\n",
              "  </tbody>\n",
              "</table>\n",
              "<p>177 rows × 2 columns</p>\n",
              "</div>"
            ],
            "text/plain": [
              "            Country  AirQuality\n",
              "0     \"Afghanistan\"   37.213694\n",
              "1         \"Albania\"   51.873625\n",
              "2         \"Algeria\"   57.607466\n",
              "3         \"Andorra\"   43.750000\n",
              "4          \"Angola\"   15.000000\n",
              "..              ...         ...\n",
              "172     \"Venezuela\"   36.514509\n",
              "173       \"Vietnam\"   44.557443\n",
              "174         \"Yemen\"   39.583333\n",
              "175        \"Zambia\"   45.833333\n",
              "176      \"Zimbabwe\"   45.329670\n",
              "\n",
              "[177 rows x 2 columns]"
            ]
          },
          "metadata": {},
          "execution_count": 8
        }
      ]
    },
    {
      "cell_type": "code",
      "metadata": {
        "colab": {
          "base_uri": "https://localhost:8080/",
          "height": 81
        },
        "id": "fkNmsKmPnI7v",
        "outputId": "395f29b0-f22d-4969-cfb2-cf184873cf8c"
      },
      "source": [
        "average_AirQuality[average_AirQuality['Country']==' \"Canada\"']"
      ],
      "execution_count": null,
      "outputs": [
        {
          "output_type": "execute_result",
          "data": {
            "text/html": [
              "<div>\n",
              "<style scoped>\n",
              "    .dataframe tbody tr th:only-of-type {\n",
              "        vertical-align: middle;\n",
              "    }\n",
              "\n",
              "    .dataframe tbody tr th {\n",
              "        vertical-align: top;\n",
              "    }\n",
              "\n",
              "    .dataframe thead th {\n",
              "        text-align: right;\n",
              "    }\n",
              "</style>\n",
              "<table border=\"1\" class=\"dataframe\">\n",
              "  <thead>\n",
              "    <tr style=\"text-align: right;\">\n",
              "      <th></th>\n",
              "      <th>Country</th>\n",
              "      <th>AirQuality</th>\n",
              "    </tr>\n",
              "  </thead>\n",
              "  <tbody>\n",
              "    <tr>\n",
              "      <th>27</th>\n",
              "      <td>\"Canada\"</td>\n",
              "      <td>84.293744</td>\n",
              "    </tr>\n",
              "  </tbody>\n",
              "</table>\n",
              "</div>"
            ],
            "text/plain": [
              "      Country  AirQuality\n",
              "27   \"Canada\"   84.293744"
            ]
          },
          "metadata": {},
          "execution_count": 10
        }
      ]
    },
    {
      "cell_type": "code",
      "metadata": {
        "colab": {
          "base_uri": "https://localhost:8080/",
          "height": 424
        },
        "id": "YGMaT3Vanakn",
        "outputId": "48884e2c-1137-4e0c-e5e5-2f19a13e794e"
      },
      "source": [
        "average_WaterPollution = tbl_countries_stage2.groupby('Country', as_index=False).agg({'WaterPollution':'mean'})\n",
        "average_WaterPollution"
      ],
      "execution_count": null,
      "outputs": [
        {
          "output_type": "execute_result",
          "data": {
            "text/html": [
              "<div>\n",
              "<style scoped>\n",
              "    .dataframe tbody tr th:only-of-type {\n",
              "        vertical-align: middle;\n",
              "    }\n",
              "\n",
              "    .dataframe tbody tr th {\n",
              "        vertical-align: top;\n",
              "    }\n",
              "\n",
              "    .dataframe thead th {\n",
              "        text-align: right;\n",
              "    }\n",
              "</style>\n",
              "<table border=\"1\" class=\"dataframe\">\n",
              "  <thead>\n",
              "    <tr style=\"text-align: right;\">\n",
              "      <th></th>\n",
              "      <th>Country</th>\n",
              "      <th>WaterPollution</th>\n",
              "    </tr>\n",
              "  </thead>\n",
              "  <tbody>\n",
              "    <tr>\n",
              "      <th>0</th>\n",
              "      <td>\"Afghanistan\"</td>\n",
              "      <td>53.440657</td>\n",
              "    </tr>\n",
              "    <tr>\n",
              "      <th>1</th>\n",
              "      <td>\"Albania\"</td>\n",
              "      <td>57.834201</td>\n",
              "    </tr>\n",
              "    <tr>\n",
              "      <th>2</th>\n",
              "      <td>\"Algeria\"</td>\n",
              "      <td>50.623043</td>\n",
              "    </tr>\n",
              "    <tr>\n",
              "      <th>3</th>\n",
              "      <td>\"Andorra\"</td>\n",
              "      <td>25.000000</td>\n",
              "    </tr>\n",
              "    <tr>\n",
              "      <th>4</th>\n",
              "      <td>\"Angola\"</td>\n",
              "      <td>81.250000</td>\n",
              "    </tr>\n",
              "    <tr>\n",
              "      <th>...</th>\n",
              "      <td>...</td>\n",
              "      <td>...</td>\n",
              "    </tr>\n",
              "    <tr>\n",
              "      <th>172</th>\n",
              "      <td>\"Venezuela\"</td>\n",
              "      <td>78.549637</td>\n",
              "    </tr>\n",
              "    <tr>\n",
              "      <th>173</th>\n",
              "      <td>\"Vietnam\"</td>\n",
              "      <td>65.526918</td>\n",
              "    </tr>\n",
              "    <tr>\n",
              "      <th>174</th>\n",
              "      <td>\"Yemen\"</td>\n",
              "      <td>85.416667</td>\n",
              "    </tr>\n",
              "    <tr>\n",
              "      <th>175</th>\n",
              "      <td>\"Zambia\"</td>\n",
              "      <td>80.769231</td>\n",
              "    </tr>\n",
              "    <tr>\n",
              "      <th>176</th>\n",
              "      <td>\"Zimbabwe\"</td>\n",
              "      <td>74.107143</td>\n",
              "    </tr>\n",
              "  </tbody>\n",
              "</table>\n",
              "<p>177 rows × 2 columns</p>\n",
              "</div>"
            ],
            "text/plain": [
              "            Country  WaterPollution\n",
              "0     \"Afghanistan\"       53.440657\n",
              "1         \"Albania\"       57.834201\n",
              "2         \"Algeria\"       50.623043\n",
              "3         \"Andorra\"       25.000000\n",
              "4          \"Angola\"       81.250000\n",
              "..              ...             ...\n",
              "172     \"Venezuela\"       78.549637\n",
              "173       \"Vietnam\"       65.526918\n",
              "174         \"Yemen\"       85.416667\n",
              "175        \"Zambia\"       80.769231\n",
              "176      \"Zimbabwe\"       74.107143\n",
              "\n",
              "[177 rows x 2 columns]"
            ]
          },
          "metadata": {},
          "execution_count": 11
        }
      ]
    },
    {
      "cell_type": "code",
      "metadata": {
        "colab": {
          "base_uri": "https://localhost:8080/",
          "height": 81
        },
        "id": "BXL75SEN4fXW",
        "outputId": "cda75932-d40d-46ba-ea36-20e1f7865281"
      },
      "source": [
        "average_WaterPollution[average_WaterPollution['Country']==' \"Canada\"']\n"
      ],
      "execution_count": null,
      "outputs": [
        {
          "output_type": "execute_result",
          "data": {
            "text/html": [
              "<div>\n",
              "<style scoped>\n",
              "    .dataframe tbody tr th:only-of-type {\n",
              "        vertical-align: middle;\n",
              "    }\n",
              "\n",
              "    .dataframe tbody tr th {\n",
              "        vertical-align: top;\n",
              "    }\n",
              "\n",
              "    .dataframe thead th {\n",
              "        text-align: right;\n",
              "    }\n",
              "</style>\n",
              "<table border=\"1\" class=\"dataframe\">\n",
              "  <thead>\n",
              "    <tr style=\"text-align: right;\">\n",
              "      <th></th>\n",
              "      <th>Country</th>\n",
              "      <th>WaterPollution</th>\n",
              "    </tr>\n",
              "  </thead>\n",
              "  <tbody>\n",
              "    <tr>\n",
              "      <th>27</th>\n",
              "      <td>\"Canada\"</td>\n",
              "      <td>32.551674</td>\n",
              "    </tr>\n",
              "  </tbody>\n",
              "</table>\n",
              "</div>"
            ],
            "text/plain": [
              "      Country  WaterPollution\n",
              "27   \"Canada\"       32.551674"
            ]
          },
          "metadata": {},
          "execution_count": 12
        }
      ]
    },
    {
      "cell_type": "markdown",
      "metadata": {
        "id": "MWezr2R7qo78"
      },
      "source": [
        "#Merging"
      ]
    },
    {
      "cell_type": "code",
      "metadata": {
        "colab": {
          "base_uri": "https://localhost:8080/",
          "height": 424
        },
        "id": "wpIPXCzqpCa3",
        "outputId": "bf204260-974b-4428-f2f4-c2d55a0ee7c2"
      },
      "source": [
        "tbl_countries_stage2_1 = pd.merge(average_AirQuality, average_WaterPollution, how='outer')\n",
        "tbl_countries_stage2_1"
      ],
      "execution_count": null,
      "outputs": [
        {
          "output_type": "execute_result",
          "data": {
            "text/html": [
              "<div>\n",
              "<style scoped>\n",
              "    .dataframe tbody tr th:only-of-type {\n",
              "        vertical-align: middle;\n",
              "    }\n",
              "\n",
              "    .dataframe tbody tr th {\n",
              "        vertical-align: top;\n",
              "    }\n",
              "\n",
              "    .dataframe thead th {\n",
              "        text-align: right;\n",
              "    }\n",
              "</style>\n",
              "<table border=\"1\" class=\"dataframe\">\n",
              "  <thead>\n",
              "    <tr style=\"text-align: right;\">\n",
              "      <th></th>\n",
              "      <th>Country</th>\n",
              "      <th>AirQuality</th>\n",
              "      <th>WaterPollution</th>\n",
              "    </tr>\n",
              "  </thead>\n",
              "  <tbody>\n",
              "    <tr>\n",
              "      <th>0</th>\n",
              "      <td>\"Afghanistan\"</td>\n",
              "      <td>37.213694</td>\n",
              "      <td>53.440657</td>\n",
              "    </tr>\n",
              "    <tr>\n",
              "      <th>1</th>\n",
              "      <td>\"Albania\"</td>\n",
              "      <td>51.873625</td>\n",
              "      <td>57.834201</td>\n",
              "    </tr>\n",
              "    <tr>\n",
              "      <th>2</th>\n",
              "      <td>\"Algeria\"</td>\n",
              "      <td>57.607466</td>\n",
              "      <td>50.623043</td>\n",
              "    </tr>\n",
              "    <tr>\n",
              "      <th>3</th>\n",
              "      <td>\"Andorra\"</td>\n",
              "      <td>43.750000</td>\n",
              "      <td>25.000000</td>\n",
              "    </tr>\n",
              "    <tr>\n",
              "      <th>4</th>\n",
              "      <td>\"Angola\"</td>\n",
              "      <td>15.000000</td>\n",
              "      <td>81.250000</td>\n",
              "    </tr>\n",
              "    <tr>\n",
              "      <th>...</th>\n",
              "      <td>...</td>\n",
              "      <td>...</td>\n",
              "      <td>...</td>\n",
              "    </tr>\n",
              "    <tr>\n",
              "      <th>172</th>\n",
              "      <td>\"Venezuela\"</td>\n",
              "      <td>36.514509</td>\n",
              "      <td>78.549637</td>\n",
              "    </tr>\n",
              "    <tr>\n",
              "      <th>173</th>\n",
              "      <td>\"Vietnam\"</td>\n",
              "      <td>44.557443</td>\n",
              "      <td>65.526918</td>\n",
              "    </tr>\n",
              "    <tr>\n",
              "      <th>174</th>\n",
              "      <td>\"Yemen\"</td>\n",
              "      <td>39.583333</td>\n",
              "      <td>85.416667</td>\n",
              "    </tr>\n",
              "    <tr>\n",
              "      <th>175</th>\n",
              "      <td>\"Zambia\"</td>\n",
              "      <td>45.833333</td>\n",
              "      <td>80.769231</td>\n",
              "    </tr>\n",
              "    <tr>\n",
              "      <th>176</th>\n",
              "      <td>\"Zimbabwe\"</td>\n",
              "      <td>45.329670</td>\n",
              "      <td>74.107143</td>\n",
              "    </tr>\n",
              "  </tbody>\n",
              "</table>\n",
              "<p>177 rows × 3 columns</p>\n",
              "</div>"
            ],
            "text/plain": [
              "            Country  AirQuality  WaterPollution\n",
              "0     \"Afghanistan\"   37.213694       53.440657\n",
              "1         \"Albania\"   51.873625       57.834201\n",
              "2         \"Algeria\"   57.607466       50.623043\n",
              "3         \"Andorra\"   43.750000       25.000000\n",
              "4          \"Angola\"   15.000000       81.250000\n",
              "..              ...         ...             ...\n",
              "172     \"Venezuela\"   36.514509       78.549637\n",
              "173       \"Vietnam\"   44.557443       65.526918\n",
              "174         \"Yemen\"   39.583333       85.416667\n",
              "175        \"Zambia\"   45.833333       80.769231\n",
              "176      \"Zimbabwe\"   45.329670       74.107143\n",
              "\n",
              "[177 rows x 3 columns]"
            ]
          },
          "metadata": {},
          "execution_count": 13
        }
      ]
    },
    {
      "cell_type": "code",
      "metadata": {
        "colab": {
          "base_uri": "https://localhost:8080/",
          "height": 81
        },
        "id": "YpDbB7_K4nMM",
        "outputId": "0e197a86-f00c-4e3d-9009-ceeeb8ef823d"
      },
      "source": [
        "tbl_countries_stage2_1[tbl_countries_stage2_1['Country']==' \"United States of America\"']"
      ],
      "execution_count": null,
      "outputs": [
        {
          "output_type": "execute_result",
          "data": {
            "text/html": [
              "<div>\n",
              "<style scoped>\n",
              "    .dataframe tbody tr th:only-of-type {\n",
              "        vertical-align: middle;\n",
              "    }\n",
              "\n",
              "    .dataframe tbody tr th {\n",
              "        vertical-align: top;\n",
              "    }\n",
              "\n",
              "    .dataframe thead th {\n",
              "        text-align: right;\n",
              "    }\n",
              "</style>\n",
              "<table border=\"1\" class=\"dataframe\">\n",
              "  <thead>\n",
              "    <tr style=\"text-align: right;\">\n",
              "      <th></th>\n",
              "      <th>Country</th>\n",
              "      <th>AirQuality</th>\n",
              "      <th>WaterPollution</th>\n",
              "    </tr>\n",
              "  </thead>\n",
              "  <tbody>\n",
              "    <tr>\n",
              "      <th>168</th>\n",
              "      <td>\"United States of America\"</td>\n",
              "      <td>80.603661</td>\n",
              "      <td>40.052397</td>\n",
              "    </tr>\n",
              "  </tbody>\n",
              "</table>\n",
              "</div>"
            ],
            "text/plain": [
              "                         Country  AirQuality  WaterPollution\n",
              "168   \"United States of America\"   80.603661       40.052397"
            ]
          },
          "metadata": {},
          "execution_count": 14
        }
      ]
    },
    {
      "cell_type": "code",
      "metadata": {
        "colab": {
          "base_uri": "https://localhost:8080/"
        },
        "id": "kNSFgTnwBzvU",
        "outputId": "4774c0ba-ec17-4121-8a40-85b5219fea94"
      },
      "source": [
        "tbl_countries_stage2_1.info()"
      ],
      "execution_count": null,
      "outputs": [
        {
          "output_type": "stream",
          "name": "stdout",
          "text": [
            "<class 'pandas.core.frame.DataFrame'>\n",
            "Int64Index: 177 entries, 0 to 176\n",
            "Data columns (total 3 columns):\n",
            " #   Column          Non-Null Count  Dtype  \n",
            "---  ------          --------------  -----  \n",
            " 0   Country         177 non-null    object \n",
            " 1   AirQuality      177 non-null    float64\n",
            " 2   WaterPollution  177 non-null    float64\n",
            "dtypes: float64(2), object(1)\n",
            "memory usage: 5.5+ KB\n"
          ]
        }
      ]
    },
    {
      "cell_type": "code",
      "metadata": {
        "colab": {
          "base_uri": "https://localhost:8080/"
        },
        "id": "E2TiyFmjg0-J",
        "outputId": "ee043fed-0594-4269-aad4-e89bd015bedb"
      },
      "source": [
        "print(\"Duplicated\",tbl_countries_stage2_1.duplicated().sum())"
      ],
      "execution_count": null,
      "outputs": [
        {
          "output_type": "stream",
          "name": "stdout",
          "text": [
            "Duplicated 0\n"
          ]
        }
      ]
    },
    {
      "cell_type": "markdown",
      "metadata": {
        "id": "EDHldXvdqsk9"
      },
      "source": [
        "#cleaning data1"
      ]
    },
    {
      "cell_type": "code",
      "metadata": {
        "colab": {
          "base_uri": "https://localhost:8080/",
          "height": 424
        },
        "id": "5OwT2BJEqQFC",
        "outputId": "7623742b-b352-4b8f-b529-306732098ac1"
      },
      "source": [
        "tbl_countries_stage1 = data1\n",
        "tbl_countries_stage1=tbl_countries_stage1.drop(columns = [' \"NativeName\"'])\n",
        "tbl_countries_stage1.columns = ['Country','QualityOfLifeIndex']\n",
        "tbl_countries_stage1"
      ],
      "execution_count": null,
      "outputs": [
        {
          "output_type": "execute_result",
          "data": {
            "text/html": [
              "<div>\n",
              "<style scoped>\n",
              "    .dataframe tbody tr th:only-of-type {\n",
              "        vertical-align: middle;\n",
              "    }\n",
              "\n",
              "    .dataframe tbody tr th {\n",
              "        vertical-align: top;\n",
              "    }\n",
              "\n",
              "    .dataframe thead th {\n",
              "        text-align: right;\n",
              "    }\n",
              "</style>\n",
              "<table border=\"1\" class=\"dataframe\">\n",
              "  <thead>\n",
              "    <tr style=\"text-align: right;\">\n",
              "      <th></th>\n",
              "      <th>Country</th>\n",
              "      <th>QualityOfLifeIndex</th>\n",
              "    </tr>\n",
              "  </thead>\n",
              "  <tbody>\n",
              "    <tr>\n",
              "      <th>0</th>\n",
              "      <td>Canada</td>\n",
              "      <td>159.511902</td>\n",
              "    </tr>\n",
              "    <tr>\n",
              "      <th>1</th>\n",
              "      <td>Japan</td>\n",
              "      <td>165.326905</td>\n",
              "    </tr>\n",
              "    <tr>\n",
              "      <th>2</th>\n",
              "      <td>Norway</td>\n",
              "      <td>173.158166</td>\n",
              "    </tr>\n",
              "    <tr>\n",
              "      <th>3</th>\n",
              "      <td>Ireland</td>\n",
              "      <td>153.182191</td>\n",
              "    </tr>\n",
              "    <tr>\n",
              "      <th>4</th>\n",
              "      <td>Hungary</td>\n",
              "      <td>135.343937</td>\n",
              "    </tr>\n",
              "    <tr>\n",
              "      <th>...</th>\n",
              "      <td>...</td>\n",
              "      <td>...</td>\n",
              "    </tr>\n",
              "    <tr>\n",
              "      <th>110</th>\n",
              "      <td>Cote d'Ivoire</td>\n",
              "      <td>24.341801</td>\n",
              "    </tr>\n",
              "    <tr>\n",
              "      <th>111</th>\n",
              "      <td>Morocco</td>\n",
              "      <td>106.065829</td>\n",
              "    </tr>\n",
              "    <tr>\n",
              "      <th>112</th>\n",
              "      <td>Nigeria</td>\n",
              "      <td>53.089911</td>\n",
              "    </tr>\n",
              "    <tr>\n",
              "      <th>113</th>\n",
              "      <td>Kingdom of the Netherlands</td>\n",
              "      <td>182.535902</td>\n",
              "    </tr>\n",
              "    <tr>\n",
              "      <th>114</th>\n",
              "      <td>Danish Realm</td>\n",
              "      <td>188.635667</td>\n",
              "    </tr>\n",
              "  </tbody>\n",
              "</table>\n",
              "<p>115 rows × 2 columns</p>\n",
              "</div>"
            ],
            "text/plain": [
              "                        Country  QualityOfLifeIndex\n",
              "0                        Canada          159.511902\n",
              "1                         Japan          165.326905\n",
              "2                        Norway          173.158166\n",
              "3                       Ireland          153.182191\n",
              "4                       Hungary          135.343937\n",
              "..                          ...                 ...\n",
              "110               Cote d'Ivoire           24.341801\n",
              "111                     Morocco          106.065829\n",
              "112                     Nigeria           53.089911\n",
              "113  Kingdom of the Netherlands          182.535902\n",
              "114                Danish Realm          188.635667\n",
              "\n",
              "[115 rows x 2 columns]"
            ]
          },
          "metadata": {},
          "execution_count": 17
        }
      ]
    },
    {
      "cell_type": "code",
      "metadata": {
        "colab": {
          "base_uri": "https://localhost:8080/",
          "height": 81
        },
        "id": "3XbjlVHmyXde",
        "outputId": "a48cc245-5c65-406f-8e1f-222a4e1da1ed"
      },
      "source": [
        "tbl_countries_stage1[tbl_countries_stage1['Country']=='Canada']"
      ],
      "execution_count": null,
      "outputs": [
        {
          "output_type": "execute_result",
          "data": {
            "text/html": [
              "<div>\n",
              "<style scoped>\n",
              "    .dataframe tbody tr th:only-of-type {\n",
              "        vertical-align: middle;\n",
              "    }\n",
              "\n",
              "    .dataframe tbody tr th {\n",
              "        vertical-align: top;\n",
              "    }\n",
              "\n",
              "    .dataframe thead th {\n",
              "        text-align: right;\n",
              "    }\n",
              "</style>\n",
              "<table border=\"1\" class=\"dataframe\">\n",
              "  <thead>\n",
              "    <tr style=\"text-align: right;\">\n",
              "      <th></th>\n",
              "      <th>Country</th>\n",
              "      <th>QualityOfLifeIndex</th>\n",
              "    </tr>\n",
              "  </thead>\n",
              "  <tbody>\n",
              "    <tr>\n",
              "      <th>0</th>\n",
              "      <td>Canada</td>\n",
              "      <td>159.511902</td>\n",
              "    </tr>\n",
              "  </tbody>\n",
              "</table>\n",
              "</div>"
            ],
            "text/plain": [
              "  Country  QualityOfLifeIndex\n",
              "0  Canada          159.511902"
            ]
          },
          "metadata": {},
          "execution_count": 18
        }
      ]
    },
    {
      "cell_type": "code",
      "metadata": {
        "colab": {
          "base_uri": "https://localhost:8080/"
        },
        "id": "cgtF6nfguyot",
        "outputId": "f47d5a6d-d295-4e76-f085-a5ffc89044ac"
      },
      "source": [
        "tbl_countries_stage1.info()"
      ],
      "execution_count": null,
      "outputs": [
        {
          "output_type": "stream",
          "name": "stdout",
          "text": [
            "<class 'pandas.core.frame.DataFrame'>\n",
            "RangeIndex: 115 entries, 0 to 114\n",
            "Data columns (total 2 columns):\n",
            " #   Column              Non-Null Count  Dtype  \n",
            "---  ------              --------------  -----  \n",
            " 0   Country             115 non-null    object \n",
            " 1   QualityOfLifeIndex  115 non-null    float64\n",
            "dtypes: float64(1), object(1)\n",
            "memory usage: 1.9+ KB\n"
          ]
        }
      ]
    },
    {
      "cell_type": "code",
      "metadata": {
        "colab": {
          "base_uri": "https://localhost:8080/"
        },
        "id": "j5wIuFQHtEKL",
        "outputId": "847c6f94-acf9-43e1-9dff-34945aeea995"
      },
      "source": [
        "# missing values:\n",
        "print(tbl_countries_stage1.isna().sum())\n",
        "#duplicated values:\n",
        "print(\"duplicated\",tbl_countries_stage1.duplicated().sum())"
      ],
      "execution_count": null,
      "outputs": [
        {
          "output_type": "stream",
          "name": "stdout",
          "text": [
            "Country               0\n",
            "QualityOfLifeIndex    0\n",
            "dtype: int64\n",
            "duplicated 0\n"
          ]
        }
      ]
    },
    {
      "cell_type": "markdown",
      "metadata": {
        "id": "uYRVG2KGzB6v"
      },
      "source": [
        "#Merging 2"
      ]
    },
    {
      "cell_type": "code",
      "metadata": {
        "id": "OzxoqJ3yzrGd"
      },
      "source": [
        "tbl_countries_stage2_1['Country'] = tbl_countries_stage2_1['Country'].str.replace('\"', '')\n",
        "tbl_countries_stage2_1['Country'] = tbl_countries_stage2_1['Country'].str.replace(' ', '')\n",
        "tbl_countries_stage1['Country'] = tbl_countries_stage1['Country'].str.replace(' ', '')\n",
        "tbl_countries_stage2_1['Country'] = tbl_countries_stage2_1['Country'].str.lower()\n",
        "tbl_countries_stage1['Country'] = tbl_countries_stage1['Country'].str.lower()"
      ],
      "execution_count": null,
      "outputs": []
    },
    {
      "cell_type": "code",
      "metadata": {
        "colab": {
          "base_uri": "https://localhost:8080/",
          "height": 424
        },
        "id": "b8QXVGfGJ_5-",
        "outputId": "6a2fcf3b-7742-4e49-98ea-73f941b4fa17"
      },
      "source": [
        "tbl_countries = pd.merge(tbl_countries_stage1,tbl_countries_stage2_1,how='outer')\n",
        "tbl_countries"
      ],
      "execution_count": null,
      "outputs": [
        {
          "output_type": "execute_result",
          "data": {
            "text/html": [
              "<div>\n",
              "<style scoped>\n",
              "    .dataframe tbody tr th:only-of-type {\n",
              "        vertical-align: middle;\n",
              "    }\n",
              "\n",
              "    .dataframe tbody tr th {\n",
              "        vertical-align: top;\n",
              "    }\n",
              "\n",
              "    .dataframe thead th {\n",
              "        text-align: right;\n",
              "    }\n",
              "</style>\n",
              "<table border=\"1\" class=\"dataframe\">\n",
              "  <thead>\n",
              "    <tr style=\"text-align: right;\">\n",
              "      <th></th>\n",
              "      <th>Country</th>\n",
              "      <th>QualityOfLifeIndex</th>\n",
              "      <th>AirQuality</th>\n",
              "      <th>WaterPollution</th>\n",
              "    </tr>\n",
              "  </thead>\n",
              "  <tbody>\n",
              "    <tr>\n",
              "      <th>0</th>\n",
              "      <td>canada</td>\n",
              "      <td>159.511902</td>\n",
              "      <td>84.293744</td>\n",
              "      <td>32.551674</td>\n",
              "    </tr>\n",
              "    <tr>\n",
              "      <th>1</th>\n",
              "      <td>japan</td>\n",
              "      <td>165.326905</td>\n",
              "      <td>76.354796</td>\n",
              "      <td>33.925384</td>\n",
              "    </tr>\n",
              "    <tr>\n",
              "      <th>2</th>\n",
              "      <td>norway</td>\n",
              "      <td>173.158166</td>\n",
              "      <td>88.684587</td>\n",
              "      <td>26.712641</td>\n",
              "    </tr>\n",
              "    <tr>\n",
              "      <th>3</th>\n",
              "      <td>ireland</td>\n",
              "      <td>153.182191</td>\n",
              "      <td>82.843919</td>\n",
              "      <td>34.479856</td>\n",
              "    </tr>\n",
              "    <tr>\n",
              "      <th>4</th>\n",
              "      <td>hungary</td>\n",
              "      <td>135.343937</td>\n",
              "      <td>69.938521</td>\n",
              "      <td>31.924383</td>\n",
              "    </tr>\n",
              "    <tr>\n",
              "      <th>...</th>\n",
              "      <td>...</td>\n",
              "      <td>...</td>\n",
              "      <td>...</td>\n",
              "      <td>...</td>\n",
              "    </tr>\n",
              "    <tr>\n",
              "      <th>174</th>\n",
              "      <td>turkmenistan</td>\n",
              "      <td>NaN</td>\n",
              "      <td>80.555556</td>\n",
              "      <td>18.055556</td>\n",
              "    </tr>\n",
              "    <tr>\n",
              "      <th>175</th>\n",
              "      <td>uganda</td>\n",
              "      <td>NaN</td>\n",
              "      <td>56.333333</td>\n",
              "      <td>53.030303</td>\n",
              "    </tr>\n",
              "    <tr>\n",
              "      <th>176</th>\n",
              "      <td>vanuatu</td>\n",
              "      <td>NaN</td>\n",
              "      <td>75.000000</td>\n",
              "      <td>70.000000</td>\n",
              "    </tr>\n",
              "    <tr>\n",
              "      <th>177</th>\n",
              "      <td>yemen</td>\n",
              "      <td>NaN</td>\n",
              "      <td>39.583333</td>\n",
              "      <td>85.416667</td>\n",
              "    </tr>\n",
              "    <tr>\n",
              "      <th>178</th>\n",
              "      <td>zambia</td>\n",
              "      <td>NaN</td>\n",
              "      <td>45.833333</td>\n",
              "      <td>80.769231</td>\n",
              "    </tr>\n",
              "  </tbody>\n",
              "</table>\n",
              "<p>179 rows × 4 columns</p>\n",
              "</div>"
            ],
            "text/plain": [
              "          Country  QualityOfLifeIndex  AirQuality  WaterPollution\n",
              "0          canada          159.511902   84.293744       32.551674\n",
              "1           japan          165.326905   76.354796       33.925384\n",
              "2          norway          173.158166   88.684587       26.712641\n",
              "3         ireland          153.182191   82.843919       34.479856\n",
              "4         hungary          135.343937   69.938521       31.924383\n",
              "..            ...                 ...         ...             ...\n",
              "174  turkmenistan                 NaN   80.555556       18.055556\n",
              "175        uganda                 NaN   56.333333       53.030303\n",
              "176       vanuatu                 NaN   75.000000       70.000000\n",
              "177         yemen                 NaN   39.583333       85.416667\n",
              "178        zambia                 NaN   45.833333       80.769231\n",
              "\n",
              "[179 rows x 4 columns]"
            ]
          },
          "metadata": {},
          "execution_count": 22
        }
      ]
    },
    {
      "cell_type": "code",
      "metadata": {
        "colab": {
          "base_uri": "https://localhost:8080/",
          "height": 424
        },
        "id": "EcARemaSzKoR",
        "outputId": "d07da181-2fa0-48c1-f0f4-112f18897ae7"
      },
      "source": [
        "tbl_countries = tbl_countries.dropna()\n",
        "tbl_countries"
      ],
      "execution_count": null,
      "outputs": [
        {
          "output_type": "execute_result",
          "data": {
            "text/html": [
              "<div>\n",
              "<style scoped>\n",
              "    .dataframe tbody tr th:only-of-type {\n",
              "        vertical-align: middle;\n",
              "    }\n",
              "\n",
              "    .dataframe tbody tr th {\n",
              "        vertical-align: top;\n",
              "    }\n",
              "\n",
              "    .dataframe thead th {\n",
              "        text-align: right;\n",
              "    }\n",
              "</style>\n",
              "<table border=\"1\" class=\"dataframe\">\n",
              "  <thead>\n",
              "    <tr style=\"text-align: right;\">\n",
              "      <th></th>\n",
              "      <th>Country</th>\n",
              "      <th>QualityOfLifeIndex</th>\n",
              "      <th>AirQuality</th>\n",
              "      <th>WaterPollution</th>\n",
              "    </tr>\n",
              "  </thead>\n",
              "  <tbody>\n",
              "    <tr>\n",
              "      <th>0</th>\n",
              "      <td>canada</td>\n",
              "      <td>159.511902</td>\n",
              "      <td>84.293744</td>\n",
              "      <td>32.551674</td>\n",
              "    </tr>\n",
              "    <tr>\n",
              "      <th>1</th>\n",
              "      <td>japan</td>\n",
              "      <td>165.326905</td>\n",
              "      <td>76.354796</td>\n",
              "      <td>33.925384</td>\n",
              "    </tr>\n",
              "    <tr>\n",
              "      <th>2</th>\n",
              "      <td>norway</td>\n",
              "      <td>173.158166</td>\n",
              "      <td>88.684587</td>\n",
              "      <td>26.712641</td>\n",
              "    </tr>\n",
              "    <tr>\n",
              "      <th>3</th>\n",
              "      <td>ireland</td>\n",
              "      <td>153.182191</td>\n",
              "      <td>82.843919</td>\n",
              "      <td>34.479856</td>\n",
              "    </tr>\n",
              "    <tr>\n",
              "      <th>4</th>\n",
              "      <td>hungary</td>\n",
              "      <td>135.343937</td>\n",
              "      <td>69.938521</td>\n",
              "      <td>31.924383</td>\n",
              "    </tr>\n",
              "    <tr>\n",
              "      <th>...</th>\n",
              "      <td>...</td>\n",
              "      <td>...</td>\n",
              "      <td>...</td>\n",
              "      <td>...</td>\n",
              "    </tr>\n",
              "    <tr>\n",
              "      <th>108</th>\n",
              "      <td>zimbabwe</td>\n",
              "      <td>86.088252</td>\n",
              "      <td>45.329670</td>\n",
              "      <td>74.107143</td>\n",
              "    </tr>\n",
              "    <tr>\n",
              "      <th>109</th>\n",
              "      <td>botswana</td>\n",
              "      <td>96.875542</td>\n",
              "      <td>64.802632</td>\n",
              "      <td>56.250000</td>\n",
              "    </tr>\n",
              "    <tr>\n",
              "      <th>110</th>\n",
              "      <td>coted'ivoire</td>\n",
              "      <td>24.341801</td>\n",
              "      <td>6.944444</td>\n",
              "      <td>79.411765</td>\n",
              "    </tr>\n",
              "    <tr>\n",
              "      <th>111</th>\n",
              "      <td>morocco</td>\n",
              "      <td>106.065829</td>\n",
              "      <td>59.823289</td>\n",
              "      <td>49.273227</td>\n",
              "    </tr>\n",
              "    <tr>\n",
              "      <th>112</th>\n",
              "      <td>nigeria</td>\n",
              "      <td>53.089911</td>\n",
              "      <td>17.162162</td>\n",
              "      <td>71.303329</td>\n",
              "    </tr>\n",
              "  </tbody>\n",
              "</table>\n",
              "<p>113 rows × 4 columns</p>\n",
              "</div>"
            ],
            "text/plain": [
              "          Country  QualityOfLifeIndex  AirQuality  WaterPollution\n",
              "0          canada          159.511902   84.293744       32.551674\n",
              "1           japan          165.326905   76.354796       33.925384\n",
              "2          norway          173.158166   88.684587       26.712641\n",
              "3         ireland          153.182191   82.843919       34.479856\n",
              "4         hungary          135.343937   69.938521       31.924383\n",
              "..            ...                 ...         ...             ...\n",
              "108      zimbabwe           86.088252   45.329670       74.107143\n",
              "109      botswana           96.875542   64.802632       56.250000\n",
              "110  coted'ivoire           24.341801    6.944444       79.411765\n",
              "111       morocco          106.065829   59.823289       49.273227\n",
              "112       nigeria           53.089911   17.162162       71.303329\n",
              "\n",
              "[113 rows x 4 columns]"
            ]
          },
          "metadata": {},
          "execution_count": 23
        }
      ]
    },
    {
      "cell_type": "markdown",
      "metadata": {
        "id": "VTNOGGgpDgC6"
      },
      "source": [
        "We only lost two rows that included QualityOfLifeIndex"
      ]
    },
    {
      "cell_type": "code",
      "metadata": {
        "id": "-_Y1y5bIAb_F",
        "colab": {
          "base_uri": "https://localhost:8080/",
          "height": 652
        },
        "outputId": "b6aa558d-af56-475d-d844-9ae22b108f2b"
      },
      "source": [
        "tbl_countries['AirPollution'] = 100-tbl_countries['AirQuality']\n",
        "tbl_countries['WaterQuality'] = 100-tbl_countries['WaterPollution']\n",
        "tbl_countries"
      ],
      "execution_count": null,
      "outputs": [
        {
          "output_type": "stream",
          "name": "stderr",
          "text": [
            "/usr/local/lib/python3.7/dist-packages/ipykernel_launcher.py:1: SettingWithCopyWarning: \n",
            "A value is trying to be set on a copy of a slice from a DataFrame.\n",
            "Try using .loc[row_indexer,col_indexer] = value instead\n",
            "\n",
            "See the caveats in the documentation: https://pandas.pydata.org/pandas-docs/stable/user_guide/indexing.html#returning-a-view-versus-a-copy\n",
            "  \"\"\"Entry point for launching an IPython kernel.\n",
            "/usr/local/lib/python3.7/dist-packages/ipykernel_launcher.py:2: SettingWithCopyWarning: \n",
            "A value is trying to be set on a copy of a slice from a DataFrame.\n",
            "Try using .loc[row_indexer,col_indexer] = value instead\n",
            "\n",
            "See the caveats in the documentation: https://pandas.pydata.org/pandas-docs/stable/user_guide/indexing.html#returning-a-view-versus-a-copy\n",
            "  \n"
          ]
        },
        {
          "output_type": "execute_result",
          "data": {
            "text/html": [
              "<div>\n",
              "<style scoped>\n",
              "    .dataframe tbody tr th:only-of-type {\n",
              "        vertical-align: middle;\n",
              "    }\n",
              "\n",
              "    .dataframe tbody tr th {\n",
              "        vertical-align: top;\n",
              "    }\n",
              "\n",
              "    .dataframe thead th {\n",
              "        text-align: right;\n",
              "    }\n",
              "</style>\n",
              "<table border=\"1\" class=\"dataframe\">\n",
              "  <thead>\n",
              "    <tr style=\"text-align: right;\">\n",
              "      <th></th>\n",
              "      <th>Country</th>\n",
              "      <th>QualityOfLifeIndex</th>\n",
              "      <th>AirQuality</th>\n",
              "      <th>WaterPollution</th>\n",
              "      <th>AirPollution</th>\n",
              "      <th>WaterQuality</th>\n",
              "    </tr>\n",
              "  </thead>\n",
              "  <tbody>\n",
              "    <tr>\n",
              "      <th>0</th>\n",
              "      <td>canada</td>\n",
              "      <td>159.511902</td>\n",
              "      <td>84.293744</td>\n",
              "      <td>32.551674</td>\n",
              "      <td>15.706256</td>\n",
              "      <td>67.448326</td>\n",
              "    </tr>\n",
              "    <tr>\n",
              "      <th>1</th>\n",
              "      <td>japan</td>\n",
              "      <td>165.326905</td>\n",
              "      <td>76.354796</td>\n",
              "      <td>33.925384</td>\n",
              "      <td>23.645204</td>\n",
              "      <td>66.074616</td>\n",
              "    </tr>\n",
              "    <tr>\n",
              "      <th>2</th>\n",
              "      <td>norway</td>\n",
              "      <td>173.158166</td>\n",
              "      <td>88.684587</td>\n",
              "      <td>26.712641</td>\n",
              "      <td>11.315413</td>\n",
              "      <td>73.287359</td>\n",
              "    </tr>\n",
              "    <tr>\n",
              "      <th>3</th>\n",
              "      <td>ireland</td>\n",
              "      <td>153.182191</td>\n",
              "      <td>82.843919</td>\n",
              "      <td>34.479856</td>\n",
              "      <td>17.156081</td>\n",
              "      <td>65.520144</td>\n",
              "    </tr>\n",
              "    <tr>\n",
              "      <th>4</th>\n",
              "      <td>hungary</td>\n",
              "      <td>135.343937</td>\n",
              "      <td>69.938521</td>\n",
              "      <td>31.924383</td>\n",
              "      <td>30.061479</td>\n",
              "      <td>68.075617</td>\n",
              "    </tr>\n",
              "    <tr>\n",
              "      <th>...</th>\n",
              "      <td>...</td>\n",
              "      <td>...</td>\n",
              "      <td>...</td>\n",
              "      <td>...</td>\n",
              "      <td>...</td>\n",
              "      <td>...</td>\n",
              "    </tr>\n",
              "    <tr>\n",
              "      <th>108</th>\n",
              "      <td>zimbabwe</td>\n",
              "      <td>86.088252</td>\n",
              "      <td>45.329670</td>\n",
              "      <td>74.107143</td>\n",
              "      <td>54.670330</td>\n",
              "      <td>25.892857</td>\n",
              "    </tr>\n",
              "    <tr>\n",
              "      <th>109</th>\n",
              "      <td>botswana</td>\n",
              "      <td>96.875542</td>\n",
              "      <td>64.802632</td>\n",
              "      <td>56.250000</td>\n",
              "      <td>35.197368</td>\n",
              "      <td>43.750000</td>\n",
              "    </tr>\n",
              "    <tr>\n",
              "      <th>110</th>\n",
              "      <td>coted'ivoire</td>\n",
              "      <td>24.341801</td>\n",
              "      <td>6.944444</td>\n",
              "      <td>79.411765</td>\n",
              "      <td>93.055556</td>\n",
              "      <td>20.588235</td>\n",
              "    </tr>\n",
              "    <tr>\n",
              "      <th>111</th>\n",
              "      <td>morocco</td>\n",
              "      <td>106.065829</td>\n",
              "      <td>59.823289</td>\n",
              "      <td>49.273227</td>\n",
              "      <td>40.176711</td>\n",
              "      <td>50.726773</td>\n",
              "    </tr>\n",
              "    <tr>\n",
              "      <th>112</th>\n",
              "      <td>nigeria</td>\n",
              "      <td>53.089911</td>\n",
              "      <td>17.162162</td>\n",
              "      <td>71.303329</td>\n",
              "      <td>82.837838</td>\n",
              "      <td>28.696671</td>\n",
              "    </tr>\n",
              "  </tbody>\n",
              "</table>\n",
              "<p>113 rows × 6 columns</p>\n",
              "</div>"
            ],
            "text/plain": [
              "          Country  QualityOfLifeIndex  ...  AirPollution  WaterQuality\n",
              "0          canada          159.511902  ...     15.706256     67.448326\n",
              "1           japan          165.326905  ...     23.645204     66.074616\n",
              "2          norway          173.158166  ...     11.315413     73.287359\n",
              "3         ireland          153.182191  ...     17.156081     65.520144\n",
              "4         hungary          135.343937  ...     30.061479     68.075617\n",
              "..            ...                 ...  ...           ...           ...\n",
              "108      zimbabwe           86.088252  ...     54.670330     25.892857\n",
              "109      botswana           96.875542  ...     35.197368     43.750000\n",
              "110  coted'ivoire           24.341801  ...     93.055556     20.588235\n",
              "111       morocco          106.065829  ...     40.176711     50.726773\n",
              "112       nigeria           53.089911  ...     82.837838     28.696671\n",
              "\n",
              "[113 rows x 6 columns]"
            ]
          },
          "metadata": {},
          "execution_count": 24
        }
      ]
    },
    {
      "cell_type": "markdown",
      "metadata": {
        "id": "DV-3-QVogluv"
      },
      "source": [
        "#Data visualization"
      ]
    },
    {
      "cell_type": "code",
      "metadata": {
        "id": "UaSNXgMndgWV",
        "colab": {
          "base_uri": "https://localhost:8080/",
          "height": 363
        },
        "outputId": "ee2f18e5-0c72-4d62-bc38-19ef2185078b"
      },
      "source": [
        "# Top ten highest Quality of life\n",
        "TopHigh = tbl_countries.sort_values(\"QualityOfLifeIndex\",ascending=False).head(10)\n",
        "TopHigh"
      ],
      "execution_count": null,
      "outputs": [
        {
          "output_type": "execute_result",
          "data": {
            "text/html": [
              "<div>\n",
              "<style scoped>\n",
              "    .dataframe tbody tr th:only-of-type {\n",
              "        vertical-align: middle;\n",
              "    }\n",
              "\n",
              "    .dataframe tbody tr th {\n",
              "        vertical-align: top;\n",
              "    }\n",
              "\n",
              "    .dataframe thead th {\n",
              "        text-align: right;\n",
              "    }\n",
              "</style>\n",
              "<table border=\"1\" class=\"dataframe\">\n",
              "  <thead>\n",
              "    <tr style=\"text-align: right;\">\n",
              "      <th></th>\n",
              "      <th>Country</th>\n",
              "      <th>QualityOfLifeIndex</th>\n",
              "      <th>AirQuality</th>\n",
              "      <th>WaterPollution</th>\n",
              "      <th>AirPollution</th>\n",
              "      <th>WaterQuality</th>\n",
              "    </tr>\n",
              "  </thead>\n",
              "  <tbody>\n",
              "    <tr>\n",
              "      <th>14</th>\n",
              "      <td>switzerland</td>\n",
              "      <td>190.164632</td>\n",
              "      <td>82.955762</td>\n",
              "      <td>22.089957</td>\n",
              "      <td>17.044238</td>\n",
              "      <td>77.910043</td>\n",
              "    </tr>\n",
              "    <tr>\n",
              "      <th>9</th>\n",
              "      <td>finland</td>\n",
              "      <td>180.809275</td>\n",
              "      <td>95.771386</td>\n",
              "      <td>19.231145</td>\n",
              "      <td>4.228614</td>\n",
              "      <td>80.768855</td>\n",
              "    </tr>\n",
              "    <tr>\n",
              "      <th>62</th>\n",
              "      <td>australia</td>\n",
              "      <td>180.530432</td>\n",
              "      <td>80.598013</td>\n",
              "      <td>31.981841</td>\n",
              "      <td>19.401987</td>\n",
              "      <td>68.018159</td>\n",
              "    </tr>\n",
              "    <tr>\n",
              "      <th>32</th>\n",
              "      <td>iceland</td>\n",
              "      <td>179.500319</td>\n",
              "      <td>78.798309</td>\n",
              "      <td>35.290404</td>\n",
              "      <td>21.201691</td>\n",
              "      <td>64.709596</td>\n",
              "    </tr>\n",
              "    <tr>\n",
              "      <th>30</th>\n",
              "      <td>germany</td>\n",
              "      <td>177.567556</td>\n",
              "      <td>83.768502</td>\n",
              "      <td>33.495474</td>\n",
              "      <td>16.231498</td>\n",
              "      <td>66.504526</td>\n",
              "    </tr>\n",
              "    <tr>\n",
              "      <th>15</th>\n",
              "      <td>austria</td>\n",
              "      <td>177.068074</td>\n",
              "      <td>83.490955</td>\n",
              "      <td>37.733801</td>\n",
              "      <td>16.509045</td>\n",
              "      <td>62.266199</td>\n",
              "    </tr>\n",
              "    <tr>\n",
              "      <th>66</th>\n",
              "      <td>newzealand</td>\n",
              "      <td>175.213335</td>\n",
              "      <td>83.787405</td>\n",
              "      <td>39.909186</td>\n",
              "      <td>16.212595</td>\n",
              "      <td>60.090814</td>\n",
              "    </tr>\n",
              "    <tr>\n",
              "      <th>2</th>\n",
              "      <td>norway</td>\n",
              "      <td>173.158166</td>\n",
              "      <td>88.684587</td>\n",
              "      <td>26.712641</td>\n",
              "      <td>11.315413</td>\n",
              "      <td>73.287359</td>\n",
              "    </tr>\n",
              "    <tr>\n",
              "      <th>33</th>\n",
              "      <td>estonia</td>\n",
              "      <td>172.307724</td>\n",
              "      <td>94.190796</td>\n",
              "      <td>28.313349</td>\n",
              "      <td>5.809204</td>\n",
              "      <td>71.686651</td>\n",
              "    </tr>\n",
              "    <tr>\n",
              "      <th>8</th>\n",
              "      <td>luxembourg</td>\n",
              "      <td>172.152982</td>\n",
              "      <td>71.818694</td>\n",
              "      <td>45.738636</td>\n",
              "      <td>28.181306</td>\n",
              "      <td>54.261364</td>\n",
              "    </tr>\n",
              "  </tbody>\n",
              "</table>\n",
              "</div>"
            ],
            "text/plain": [
              "        Country  QualityOfLifeIndex  ...  AirPollution  WaterQuality\n",
              "14  switzerland          190.164632  ...     17.044238     77.910043\n",
              "9       finland          180.809275  ...      4.228614     80.768855\n",
              "62    australia          180.530432  ...     19.401987     68.018159\n",
              "32      iceland          179.500319  ...     21.201691     64.709596\n",
              "30      germany          177.567556  ...     16.231498     66.504526\n",
              "15      austria          177.068074  ...     16.509045     62.266199\n",
              "66   newzealand          175.213335  ...     16.212595     60.090814\n",
              "2        norway          173.158166  ...     11.315413     73.287359\n",
              "33      estonia          172.307724  ...      5.809204     71.686651\n",
              "8    luxembourg          172.152982  ...     28.181306     54.261364\n",
              "\n",
              "[10 rows x 6 columns]"
            ]
          },
          "metadata": {},
          "execution_count": 25
        }
      ]
    },
    {
      "cell_type": "code",
      "metadata": {
        "colab": {
          "base_uri": "https://localhost:8080/",
          "height": 363
        },
        "id": "I6HSqUBQeayG",
        "outputId": "d4bc2ea8-79f3-4813-9966-68bcc8897c45"
      },
      "source": [
        "# Top ten Lowest Quality of life\n",
        "TopLow = tbl_countries.sort_values(\"QualityOfLifeIndex\").head(10)\n",
        "TopLow"
      ],
      "execution_count": null,
      "outputs": [
        {
          "output_type": "execute_result",
          "data": {
            "text/html": [
              "<div>\n",
              "<style scoped>\n",
              "    .dataframe tbody tr th:only-of-type {\n",
              "        vertical-align: middle;\n",
              "    }\n",
              "\n",
              "    .dataframe tbody tr th {\n",
              "        vertical-align: top;\n",
              "    }\n",
              "\n",
              "    .dataframe thead th {\n",
              "        text-align: right;\n",
              "    }\n",
              "</style>\n",
              "<table border=\"1\" class=\"dataframe\">\n",
              "  <thead>\n",
              "    <tr style=\"text-align: right;\">\n",
              "      <th></th>\n",
              "      <th>Country</th>\n",
              "      <th>QualityOfLifeIndex</th>\n",
              "      <th>AirQuality</th>\n",
              "      <th>WaterPollution</th>\n",
              "      <th>AirPollution</th>\n",
              "      <th>WaterQuality</th>\n",
              "    </tr>\n",
              "  </thead>\n",
              "  <tbody>\n",
              "    <tr>\n",
              "      <th>24</th>\n",
              "      <td>ghana</td>\n",
              "      <td>14.668200</td>\n",
              "      <td>50.185185</td>\n",
              "      <td>69.152047</td>\n",
              "      <td>49.814815</td>\n",
              "      <td>30.847953</td>\n",
              "    </tr>\n",
              "    <tr>\n",
              "      <th>110</th>\n",
              "      <td>coted'ivoire</td>\n",
              "      <td>24.341801</td>\n",
              "      <td>6.944444</td>\n",
              "      <td>79.411765</td>\n",
              "      <td>93.055556</td>\n",
              "      <td>20.588235</td>\n",
              "    </tr>\n",
              "    <tr>\n",
              "      <th>98</th>\n",
              "      <td>syria</td>\n",
              "      <td>26.100356</td>\n",
              "      <td>31.547619</td>\n",
              "      <td>65.595238</td>\n",
              "      <td>68.452381</td>\n",
              "      <td>34.404762</td>\n",
              "    </tr>\n",
              "    <tr>\n",
              "      <th>112</th>\n",
              "      <td>nigeria</td>\n",
              "      <td>53.089911</td>\n",
              "      <td>17.162162</td>\n",
              "      <td>71.303329</td>\n",
              "      <td>82.837838</td>\n",
              "      <td>28.696671</td>\n",
              "    </tr>\n",
              "    <tr>\n",
              "      <th>65</th>\n",
              "      <td>cambodia</td>\n",
              "      <td>57.877183</td>\n",
              "      <td>56.705083</td>\n",
              "      <td>67.032828</td>\n",
              "      <td>43.294917</td>\n",
              "      <td>32.967172</td>\n",
              "    </tr>\n",
              "    <tr>\n",
              "      <th>68</th>\n",
              "      <td>mongolia</td>\n",
              "      <td>58.626884</td>\n",
              "      <td>23.590686</td>\n",
              "      <td>55.434783</td>\n",
              "      <td>76.409314</td>\n",
              "      <td>44.565217</td>\n",
              "    </tr>\n",
              "    <tr>\n",
              "      <th>77</th>\n",
              "      <td>jamaica</td>\n",
              "      <td>62.573096</td>\n",
              "      <td>66.155303</td>\n",
              "      <td>53.044569</td>\n",
              "      <td>33.844697</td>\n",
              "      <td>46.955431</td>\n",
              "    </tr>\n",
              "    <tr>\n",
              "      <th>82</th>\n",
              "      <td>iran</td>\n",
              "      <td>64.666263</td>\n",
              "      <td>30.255147</td>\n",
              "      <td>47.777382</td>\n",
              "      <td>69.744853</td>\n",
              "      <td>52.222618</td>\n",
              "    </tr>\n",
              "    <tr>\n",
              "      <th>104</th>\n",
              "      <td>bangladesh</td>\n",
              "      <td>65.607267</td>\n",
              "      <td>37.141523</td>\n",
              "      <td>59.124719</td>\n",
              "      <td>62.858477</td>\n",
              "      <td>40.875281</td>\n",
              "    </tr>\n",
              "    <tr>\n",
              "      <th>23</th>\n",
              "      <td>ethiopia</td>\n",
              "      <td>69.074769</td>\n",
              "      <td>52.424242</td>\n",
              "      <td>64.848485</td>\n",
              "      <td>47.575758</td>\n",
              "      <td>35.151515</td>\n",
              "    </tr>\n",
              "  </tbody>\n",
              "</table>\n",
              "</div>"
            ],
            "text/plain": [
              "          Country  QualityOfLifeIndex  ...  AirPollution  WaterQuality\n",
              "24          ghana           14.668200  ...     49.814815     30.847953\n",
              "110  coted'ivoire           24.341801  ...     93.055556     20.588235\n",
              "98          syria           26.100356  ...     68.452381     34.404762\n",
              "112       nigeria           53.089911  ...     82.837838     28.696671\n",
              "65       cambodia           57.877183  ...     43.294917     32.967172\n",
              "68       mongolia           58.626884  ...     76.409314     44.565217\n",
              "77        jamaica           62.573096  ...     33.844697     46.955431\n",
              "82           iran           64.666263  ...     69.744853     52.222618\n",
              "104    bangladesh           65.607267  ...     62.858477     40.875281\n",
              "23       ethiopia           69.074769  ...     47.575758     35.151515\n",
              "\n",
              "[10 rows x 6 columns]"
            ]
          },
          "metadata": {},
          "execution_count": 26
        }
      ]
    },
    {
      "cell_type": "code",
      "metadata": {
        "colab": {
          "base_uri": "https://localhost:8080/",
          "height": 300
        },
        "id": "sL3siNTFfAoF",
        "outputId": "b86320dd-7809-4dfc-906d-d9016313ee63"
      },
      "source": [
        "tbl_countries.describe()"
      ],
      "execution_count": null,
      "outputs": [
        {
          "output_type": "execute_result",
          "data": {
            "text/html": [
              "<div>\n",
              "<style scoped>\n",
              "    .dataframe tbody tr th:only-of-type {\n",
              "        vertical-align: middle;\n",
              "    }\n",
              "\n",
              "    .dataframe tbody tr th {\n",
              "        vertical-align: top;\n",
              "    }\n",
              "\n",
              "    .dataframe thead th {\n",
              "        text-align: right;\n",
              "    }\n",
              "</style>\n",
              "<table border=\"1\" class=\"dataframe\">\n",
              "  <thead>\n",
              "    <tr style=\"text-align: right;\">\n",
              "      <th></th>\n",
              "      <th>QualityOfLifeIndex</th>\n",
              "      <th>AirQuality</th>\n",
              "      <th>WaterPollution</th>\n",
              "      <th>AirPollution</th>\n",
              "      <th>WaterQuality</th>\n",
              "    </tr>\n",
              "  </thead>\n",
              "  <tbody>\n",
              "    <tr>\n",
              "      <th>count</th>\n",
              "      <td>113.000000</td>\n",
              "      <td>113.000000</td>\n",
              "      <td>113.000000</td>\n",
              "      <td>113.000000</td>\n",
              "      <td>113.000000</td>\n",
              "    </tr>\n",
              "    <tr>\n",
              "      <th>mean</th>\n",
              "      <td>118.016761</td>\n",
              "      <td>54.184226</td>\n",
              "      <td>50.631967</td>\n",
              "      <td>45.815774</td>\n",
              "      <td>49.368033</td>\n",
              "    </tr>\n",
              "    <tr>\n",
              "      <th>std</th>\n",
              "      <td>36.856161</td>\n",
              "      <td>20.677446</td>\n",
              "      <td>15.899093</td>\n",
              "      <td>20.677446</td>\n",
              "      <td>15.899093</td>\n",
              "    </tr>\n",
              "    <tr>\n",
              "      <th>min</th>\n",
              "      <td>14.668200</td>\n",
              "      <td>6.944444</td>\n",
              "      <td>18.842412</td>\n",
              "      <td>4.228614</td>\n",
              "      <td>6.250000</td>\n",
              "    </tr>\n",
              "    <tr>\n",
              "      <th>25%</th>\n",
              "      <td>94.884972</td>\n",
              "      <td>41.160714</td>\n",
              "      <td>37.733801</td>\n",
              "      <td>30.061479</td>\n",
              "      <td>38.645833</td>\n",
              "    </tr>\n",
              "    <tr>\n",
              "      <th>50%</th>\n",
              "      <td>114.876384</td>\n",
              "      <td>52.794521</td>\n",
              "      <td>50.376855</td>\n",
              "      <td>47.205479</td>\n",
              "      <td>49.623145</td>\n",
              "    </tr>\n",
              "    <tr>\n",
              "      <th>75%</th>\n",
              "      <td>148.899334</td>\n",
              "      <td>69.938521</td>\n",
              "      <td>61.354167</td>\n",
              "      <td>58.839286</td>\n",
              "      <td>62.266199</td>\n",
              "    </tr>\n",
              "    <tr>\n",
              "      <th>max</th>\n",
              "      <td>190.164632</td>\n",
              "      <td>95.771386</td>\n",
              "      <td>93.750000</td>\n",
              "      <td>93.055556</td>\n",
              "      <td>81.157588</td>\n",
              "    </tr>\n",
              "  </tbody>\n",
              "</table>\n",
              "</div>"
            ],
            "text/plain": [
              "       QualityOfLifeIndex  AirQuality  ...  AirPollution  WaterQuality\n",
              "count          113.000000  113.000000  ...    113.000000    113.000000\n",
              "mean           118.016761   54.184226  ...     45.815774     49.368033\n",
              "std             36.856161   20.677446  ...     20.677446     15.899093\n",
              "min             14.668200    6.944444  ...      4.228614      6.250000\n",
              "25%             94.884972   41.160714  ...     30.061479     38.645833\n",
              "50%            114.876384   52.794521  ...     47.205479     49.623145\n",
              "75%            148.899334   69.938521  ...     58.839286     62.266199\n",
              "max            190.164632   95.771386  ...     93.055556     81.157588\n",
              "\n",
              "[8 rows x 5 columns]"
            ]
          },
          "metadata": {},
          "execution_count": 27
        }
      ]
    },
    {
      "cell_type": "code",
      "metadata": {
        "colab": {
          "base_uri": "https://localhost:8080/",
          "height": 1000
        },
        "id": "rgvc_2_yvSWp",
        "outputId": "45aacb08-6deb-457f-8356-8d350e267385"
      },
      "source": [
        "plt.figure(figsize=(10,5))\n",
        "sns.boxplot(tbl_countries['AirQuality'])\n",
        "plt.show()\n",
        "\n",
        "plt.figure(figsize=(10,5))\n",
        "sns.boxplot(tbl_countries['AirPollution'])\n",
        "plt.show()\n",
        "\n",
        "plt.figure(figsize=(10,5))\n",
        "sns.boxplot(tbl_countries['WaterQuality'])\n",
        "plt.show()\n",
        "\n",
        "plt.figure(figsize=(10,5))\n",
        "sns.boxplot(tbl_countries['WaterPollution'])\n",
        "plt.show()\n",
        "\n",
        "plt.figure(figsize=(10,5))\n",
        "sns.boxplot(tbl_countries['QualityOfLifeIndex'])\n",
        "plt.show()"
      ],
      "execution_count": null,
      "outputs": [
        {
          "output_type": "stream",
          "name": "stderr",
          "text": [
            "/usr/local/lib/python3.7/dist-packages/seaborn/_decorators.py:43: FutureWarning: Pass the following variable as a keyword arg: x. From version 0.12, the only valid positional argument will be `data`, and passing other arguments without an explicit keyword will result in an error or misinterpretation.\n",
            "  FutureWarning\n"
          ]
        },
        {
          "output_type": "display_data",
          "data": {
            "image/png": "[encoded data removed]",
            "text/plain": [
              "<Figure size 720x360 with 1 Axes>"
            ]
          },
          "metadata": {
            "needs_background": "light"
          }
        },
        {
          "output_type": "stream",
          "name": "stderr",
          "text": [
            "/usr/local/lib/python3.7/dist-packages/seaborn/_decorators.py:43: FutureWarning: Pass the following variable as a keyword arg: x. From version 0.12, the only valid positional argument will be `data`, and passing other arguments without an explicit keyword will result in an error or misinterpretation.\n",
            "  FutureWarning\n"
          ]
        },
        {
          "output_type": "display_data",
          "data": {
            "image/png": "[encoded data removed]",
            "text/plain": [
              "<Figure size 720x360 with 1 Axes>"
            ]
          },
          "metadata": {
            "needs_background": "light"
          }
        },
        {
          "output_type": "stream",
          "name": "stderr",
          "text": [
            "/usr/local/lib/python3.7/dist-packages/seaborn/_decorators.py:43: FutureWarning: Pass the following variable as a keyword arg: x. From version 0.12, the only valid positional argument will be `data`, and passing other arguments without an explicit keyword will result in an error or misinterpretation.\n",
            "  FutureWarning\n"
          ]
        },
        {
          "output_type": "display_data",
          "data": {
            "image/png": "[encoded data removed]",
            "text/plain": [
              "<Figure size 720x360 with 1 Axes>"
            ]
          },
          "metadata": {
            "needs_background": "light"
          }
        },
        {
          "output_type": "stream",
          "name": "stderr",
          "text": [
            "/usr/local/lib/python3.7/dist-packages/seaborn/_decorators.py:43: FutureWarning: Pass the following variable as a keyword arg: x. From version 0.12, the only valid positional argument will be `data`, and passing other arguments without an explicit keyword will result in an error or misinterpretation.\n",
            "  FutureWarning\n"
          ]
        },
        {
          "output_type": "display_data",
          "data": {
            "image/png": "[encoded data removed]",
            "text/plain": [
              "<Figure size 720x360 with 1 Axes>"
            ]
          },
          "metadata": {
            "needs_background": "light"
          }
        },
        {
          "output_type": "stream",
          "name": "stderr",
          "text": [
            "/usr/local/lib/python3.7/dist-packages/seaborn/_decorators.py:43: FutureWarning: Pass the following variable as a keyword arg: x. From version 0.12, the only valid positional argument will be `data`, and passing other arguments without an explicit keyword will result in an error or misinterpretation.\n",
            "  FutureWarning\n"
          ]
        },
        {
          "output_type": "display_data",
          "data": {
            "image/png": "[encoded data removed]",
            "text/plain": [
              "<Figure size 720x360 with 1 Axes>"
            ]
          },
          "metadata": {
            "needs_background": "light"
          }
        }
      ]
    },
    {
      "cell_type": "markdown",
      "metadata": {
        "id": "-cMaZhOAyJVw"
      },
      "source": [
        "There were no outliars detected"
      ]
    },
    {
      "cell_type": "code",
      "metadata": {
        "colab": {
          "base_uri": "https://localhost:8080/",
          "height": 388
        },
        "id": "K-emTaSMh-rj",
        "outputId": "34fd28e5-069c-4a93-e5fb-2ec3e46f88ce"
      },
      "source": [
        "#Top 10 Highest Quality of life\n",
        "plt.figure(figsize=(15,6))\n",
        "sns.barplot(data=TopHigh,x='Country',y='QualityOfLifeIndex')\n",
        "plt.show()"
      ],
      "execution_count": null,
      "outputs": [
        {
          "output_type": "display_data",
          "data": {
            "image/png": "[encoded data removed]",
            "text/plain": [
              "<Figure size 1080x432 with 1 Axes>"
            ]
          },
          "metadata": {
            "needs_background": "light"
          }
        }
      ]
    },
    {
      "cell_type": "markdown",
      "metadata": {
        "id": "2KTE4f-vyixo"
      },
      "source": [
        "The highest are all above 170 in the index"
      ]
    },
    {
      "cell_type": "code",
      "metadata": {
        "colab": {
          "base_uri": "https://localhost:8080/",
          "height": 388
        },
        "id": "gYilO9uujFDx",
        "outputId": "2d364e75-f522-4014-b33a-5bbddd6a5567"
      },
      "source": [
        "#Top 10 Lowest Quality of life\n",
        "plt.figure(figsize=(15,6))\n",
        "sns.barplot(data=TopLow,x='Country',y='QualityOfLifeIndex')\n",
        "plt.show()"
      ],
      "execution_count": null,
      "outputs": [
        {
          "output_type": "display_data",
          "data": {
            "image/png": "[encoded data removed]",
            "text/plain": [
              "<Figure size 1080x432 with 1 Axes>"
            ]
          },
          "metadata": {
            "needs_background": "light"
          }
        }
      ]
    },
    {
      "cell_type": "markdown",
      "metadata": {
        "id": "5Mulif1hy0FB"
      },
      "source": [
        "The lowest ten range from about 15 to almost 70 in the index"
      ]
    },
    {
      "cell_type": "code",
      "metadata": {
        "colab": {
          "base_uri": "https://localhost:8080/",
          "height": 279
        },
        "id": "tfabDxqnvp2A",
        "outputId": "5c8470d8-36ed-49ef-a554-256bb42d1239"
      },
      "source": [
        "scatterPlot = tbl_countries.plot.scatter(x='WaterQuality', y='QualityOfLifeIndex', c='green')"
      ],
      "execution_count": null,
      "outputs": [
        {
          "output_type": "display_data",
          "data": {
            "image/png": "[encoded data removed]",
            "text/plain": [
              "<Figure size 432x288 with 1 Axes>"
            ]
          },
          "metadata": {
            "needs_background": "light"
          }
        }
      ]
    },
    {
      "cell_type": "code",
      "metadata": {
        "colab": {
          "base_uri": "https://localhost:8080/",
          "height": 279
        },
        "id": "EjyF8cnsvqtE",
        "outputId": "2a433e4b-948b-41c5-ca94-b42c551bfad7"
      },
      "source": [
        "scatterPlot = tbl_countries.plot.scatter(x='AirQuality', y='QualityOfLifeIndex', c='green')"
      ],
      "execution_count": null,
      "outputs": [
        {
          "output_type": "display_data",
          "data": {
            "image/png": "[encoded data removed]",
            "text/plain": [
              "<Figure size 432x288 with 1 Axes>"
            ]
          },
          "metadata": {
            "needs_background": "light"
          }
        }
      ]
    },
    {
      "cell_type": "code",
      "metadata": {
        "colab": {
          "base_uri": "https://localhost:8080/",
          "height": 279
        },
        "id": "lYPohJD-wfpw",
        "outputId": "a2475fa3-bed1-4522-fb15-0212cc891968"
      },
      "source": [
        "scatterPlot = tbl_countries.plot.scatter(x='AirPollution', y='QualityOfLifeIndex', c='red')"
      ],
      "execution_count": null,
      "outputs": [
        {
          "output_type": "display_data",
          "data": {
            "image/png": "[encoded data removed]",
            "text/plain": [
              "<Figure size 432x288 with 1 Axes>"
            ]
          },
          "metadata": {
            "needs_background": "light"
          }
        }
      ]
    },
    {
      "cell_type": "code",
      "metadata": {
        "colab": {
          "base_uri": "https://localhost:8080/",
          "height": 279
        },
        "id": "MwDmr7g_woeo",
        "outputId": "378c1bd8-cdf7-46ea-e49d-c0fab983777b"
      },
      "source": [
        "scatterPlot = tbl_countries.plot.scatter(x='WaterPollution', y='QualityOfLifeIndex', c='red')"
      ],
      "execution_count": null,
      "outputs": [
        {
          "output_type": "display_data",
          "data": {
            "image/png": "[encoded data removed]",
            "text/plain": [
              "<Figure size 432x288 with 1 Axes>"
            ]
          },
          "metadata": {
            "needs_background": "light"
          }
        }
      ]
    },
    {
      "cell_type": "markdown",
      "metadata": {
        "id": "D9jOrrpNzMs4"
      },
      "source": [
        "There seems to be a common trend where the Higher the Quality of life the higher the water and air Quality, And the lower the pollution "
      ]
    },
    {
      "cell_type": "markdown",
      "metadata": {
        "id": "FW7bYz-wzOVe"
      },
      "source": [
        "#Train and Test machine learning model: \n",
        "#linear Regression"
      ]
    },
    {
      "cell_type": "code",
      "metadata": {
        "colab": {
          "base_uri": "https://localhost:8080/",
          "height": 548
        },
        "id": "VQ6RvibvwPQj",
        "outputId": "1d9b766b-641d-43b5-a21a-4a06dea31d33"
      },
      "source": [
        "# calculating the average Water/Air Quality\n",
        "tbl_countries['AverageAirWaterQ'] = (tbl_countries['AirQuality'] + tbl_countries['WaterQuality']) / 2\n",
        "tbl_countries"
      ],
      "execution_count": null,
      "outputs": [
        {
          "output_type": "stream",
          "name": "stderr",
          "text": [
            "/usr/local/lib/python3.7/dist-packages/ipykernel_launcher.py:2: SettingWithCopyWarning: \n",
            "A value is trying to be set on a copy of a slice from a DataFrame.\n",
            "Try using .loc[row_indexer,col_indexer] = value instead\n",
            "\n",
            "See the caveats in the documentation: https://pandas.pydata.org/pandas-docs/stable/user_guide/indexing.html#returning-a-view-versus-a-copy\n",
            "  \n"
          ]
        },
        {
          "output_type": "execute_result",
          "data": {
            "text/html": [
              "<div>\n",
              "<style scoped>\n",
              "    .dataframe tbody tr th:only-of-type {\n",
              "        vertical-align: middle;\n",
              "    }\n",
              "\n",
              "    .dataframe tbody tr th {\n",
              "        vertical-align: top;\n",
              "    }\n",
              "\n",
              "    .dataframe thead th {\n",
              "        text-align: right;\n",
              "    }\n",
              "</style>\n",
              "<table border=\"1\" class=\"dataframe\">\n",
              "  <thead>\n",
              "    <tr style=\"text-align: right;\">\n",
              "      <th></th>\n",
              "      <th>Country</th>\n",
              "      <th>QualityOfLifeIndex</th>\n",
              "      <th>AirQuality</th>\n",
              "      <th>WaterPollution</th>\n",
              "      <th>AirPollution</th>\n",
              "      <th>WaterQuality</th>\n",
              "      <th>AverageAirWaterQ</th>\n",
              "    </tr>\n",
              "  </thead>\n",
              "  <tbody>\n",
              "    <tr>\n",
              "      <th>0</th>\n",
              "      <td>canada</td>\n",
              "      <td>159.511902</td>\n",
              "      <td>84.293744</td>\n",
              "      <td>32.551674</td>\n",
              "      <td>15.706256</td>\n",
              "      <td>67.448326</td>\n",
              "      <td>75.871035</td>\n",
              "    </tr>\n",
              "    <tr>\n",
              "      <th>1</th>\n",
              "      <td>japan</td>\n",
              "      <td>165.326905</td>\n",
              "      <td>76.354796</td>\n",
              "      <td>33.925384</td>\n",
              "      <td>23.645204</td>\n",
              "      <td>66.074616</td>\n",
              "      <td>71.214706</td>\n",
              "    </tr>\n",
              "    <tr>\n",
              "      <th>2</th>\n",
              "      <td>norway</td>\n",
              "      <td>173.158166</td>\n",
              "      <td>88.684587</td>\n",
              "      <td>26.712641</td>\n",
              "      <td>11.315413</td>\n",
              "      <td>73.287359</td>\n",
              "      <td>80.985973</td>\n",
              "    </tr>\n",
              "    <tr>\n",
              "      <th>3</th>\n",
              "      <td>ireland</td>\n",
              "      <td>153.182191</td>\n",
              "      <td>82.843919</td>\n",
              "      <td>34.479856</td>\n",
              "      <td>17.156081</td>\n",
              "      <td>65.520144</td>\n",
              "      <td>74.182031</td>\n",
              "    </tr>\n",
              "    <tr>\n",
              "      <th>4</th>\n",
              "      <td>hungary</td>\n",
              "      <td>135.343937</td>\n",
              "      <td>69.938521</td>\n",
              "      <td>31.924383</td>\n",
              "      <td>30.061479</td>\n",
              "      <td>68.075617</td>\n",
              "      <td>69.007069</td>\n",
              "    </tr>\n",
              "    <tr>\n",
              "      <th>...</th>\n",
              "      <td>...</td>\n",
              "      <td>...</td>\n",
              "      <td>...</td>\n",
              "      <td>...</td>\n",
              "      <td>...</td>\n",
              "      <td>...</td>\n",
              "      <td>...</td>\n",
              "    </tr>\n",
              "    <tr>\n",
              "      <th>108</th>\n",
              "      <td>zimbabwe</td>\n",
              "      <td>86.088252</td>\n",
              "      <td>45.329670</td>\n",
              "      <td>74.107143</td>\n",
              "      <td>54.670330</td>\n",
              "      <td>25.892857</td>\n",
              "      <td>35.611264</td>\n",
              "    </tr>\n",
              "    <tr>\n",
              "      <th>109</th>\n",
              "      <td>botswana</td>\n",
              "      <td>96.875542</td>\n",
              "      <td>64.802632</td>\n",
              "      <td>56.250000</td>\n",
              "      <td>35.197368</td>\n",
              "      <td>43.750000</td>\n",
              "      <td>54.276316</td>\n",
              "    </tr>\n",
              "    <tr>\n",
              "      <th>110</th>\n",
              "      <td>coted'ivoire</td>\n",
              "      <td>24.341801</td>\n",
              "      <td>6.944444</td>\n",
              "      <td>79.411765</td>\n",
              "      <td>93.055556</td>\n",
              "      <td>20.588235</td>\n",
              "      <td>13.766340</td>\n",
              "    </tr>\n",
              "    <tr>\n",
              "      <th>111</th>\n",
              "      <td>morocco</td>\n",
              "      <td>106.065829</td>\n",
              "      <td>59.823289</td>\n",
              "      <td>49.273227</td>\n",
              "      <td>40.176711</td>\n",
              "      <td>50.726773</td>\n",
              "      <td>55.275031</td>\n",
              "    </tr>\n",
              "    <tr>\n",
              "      <th>112</th>\n",
              "      <td>nigeria</td>\n",
              "      <td>53.089911</td>\n",
              "      <td>17.162162</td>\n",
              "      <td>71.303329</td>\n",
              "      <td>82.837838</td>\n",
              "      <td>28.696671</td>\n",
              "      <td>22.929417</td>\n",
              "    </tr>\n",
              "  </tbody>\n",
              "</table>\n",
              "<p>113 rows × 7 columns</p>\n",
              "</div>"
            ],
            "text/plain": [
              "          Country  QualityOfLifeIndex  ...  WaterQuality  AverageAirWaterQ\n",
              "0          canada          159.511902  ...     67.448326         75.871035\n",
              "1           japan          165.326905  ...     66.074616         71.214706\n",
              "2          norway          173.158166  ...     73.287359         80.985973\n",
              "3         ireland          153.182191  ...     65.520144         74.182031\n",
              "4         hungary          135.343937  ...     68.075617         69.007069\n",
              "..            ...                 ...  ...           ...               ...\n",
              "108      zimbabwe           86.088252  ...     25.892857         35.611264\n",
              "109      botswana           96.875542  ...     43.750000         54.276316\n",
              "110  coted'ivoire           24.341801  ...     20.588235         13.766340\n",
              "111       morocco          106.065829  ...     50.726773         55.275031\n",
              "112       nigeria           53.089911  ...     28.696671         22.929417\n",
              "\n",
              "[113 rows x 7 columns]"
            ]
          },
          "metadata": {},
          "execution_count": 35
        }
      ]
    },
    {
      "cell_type": "code",
      "metadata": {
        "colab": {
          "base_uri": "https://localhost:8080/",
          "height": 279
        },
        "id": "3mamrbZh19Wg",
        "outputId": "815d952f-f37e-4701-8cc3-221f99149723"
      },
      "source": [
        "scatterPlot = tbl_countries.plot.scatter(x='AverageAirWaterQ', y='QualityOfLifeIndex', c='purple')"
      ],
      "execution_count": null,
      "outputs": [
        {
          "output_type": "display_data",
          "data": {
            "image/png": "[encoded data removed]",
            "text/plain": [
              "<Figure size 432x288 with 1 Axes>"
            ]
          },
          "metadata": {
            "needs_background": "light"
          }
        }
      ]
    },
    {
      "cell_type": "code",
      "metadata": {
        "id": "kl7Xg3Vj60n5"
      },
      "source": [
        "from sklearn.linear_model import LinearRegression\n",
        "from sklearn.model_selection import train_test_split \n",
        "from sklearn.metrics import mean_absolute_error\n",
        "from sklearn.metrics import mean_squared_error"
      ],
      "execution_count": null,
      "outputs": []
    },
    {
      "cell_type": "code",
      "metadata": {
        "colab": {
          "base_uri": "https://localhost:8080/"
        },
        "id": "dj8UfaqC2GUN",
        "outputId": "0257cfb0-845e-4f6e-8fac-35ac385f6a23"
      },
      "source": [
        "x = tbl_countries.iloc[:,6:7]\n",
        "print(\"input: \\n\", x)\n",
        "y = tbl_countries.iloc[:,1:2]\n",
        "print(\"output: \\n\", y)"
      ],
      "execution_count": null,
      "outputs": [
        {
          "output_type": "stream",
          "name": "stdout",
          "text": [
            "input: \n",
            "      AverageAirWaterQ\n",
            "0           75.871035\n",
            "1           71.214706\n",
            "2           80.985973\n",
            "3           74.182031\n",
            "4           69.007069\n",
            "..                ...\n",
            "108         35.611264\n",
            "109         54.276316\n",
            "110         13.766340\n",
            "111         55.275031\n",
            "112         22.929417\n",
            "\n",
            "[113 rows x 1 columns]\n",
            "output: \n",
            "      QualityOfLifeIndex\n",
            "0            159.511902\n",
            "1            165.326905\n",
            "2            173.158166\n",
            "3            153.182191\n",
            "4            135.343937\n",
            "..                  ...\n",
            "108           86.088252\n",
            "109           96.875542\n",
            "110           24.341801\n",
            "111          106.065829\n",
            "112           53.089911\n",
            "\n",
            "[113 rows x 1 columns]\n"
          ]
        }
      ]
    },
    {
      "cell_type": "code",
      "metadata": {
        "colab": {
          "base_uri": "https://localhost:8080/"
        },
        "id": "OlPMBW4w4mS4",
        "outputId": "230060d9-b0e9-44b2-c7fd-20296042e762"
      },
      "source": [
        "#spliting the data into test and train\n",
        "#train takes 80% and test takes 20%\n",
        "x_train,x_test,y_train,y_test = train_test_split(x,y,test_size=0.20,random_state=4)\n",
        "\n",
        "#displaying the shapes\n",
        "print(x_train.shape)\n",
        "print(x_test.shape)\n",
        "print(y_train.shape)\n",
        "print(y_test.shape)"
      ],
      "execution_count": null,
      "outputs": [
        {
          "output_type": "stream",
          "name": "stdout",
          "text": [
            "(90, 1)\n",
            "(23, 1)\n",
            "(90, 1)\n",
            "(23, 1)\n"
          ]
        }
      ]
    },
    {
      "cell_type": "code",
      "metadata": {
        "colab": {
          "base_uri": "https://localhost:8080/"
        },
        "id": "Qz4cSssV6rfv",
        "outputId": "bab9fb35-d574-4bee-8fc1-25f5949d6e30"
      },
      "source": [
        "#fitting the model\n",
        "LRegressor = LinearRegression()\n",
        "LRegressor.fit(x_train,y_train)"
      ],
      "execution_count": null,
      "outputs": [
        {
          "output_type": "execute_result",
          "data": {
            "text/plain": [
              "LinearRegression()"
            ]
          },
          "metadata": {},
          "execution_count": 40
        }
      ]
    },
    {
      "cell_type": "code",
      "metadata": {
        "colab": {
          "base_uri": "https://localhost:8080/"
        },
        "id": "6JRcAxV67EMt",
        "outputId": "a4dde101-ede9-4496-e5f1-c05af094a54d"
      },
      "source": [
        "#the slope and intercept values\n",
        "print(\"The intercept value: \",LRegressor.intercept_)\n",
        "print(\"The slope value: \",LRegressor.coef_)"
      ],
      "execution_count": null,
      "outputs": [
        {
          "output_type": "stream",
          "name": "stdout",
          "text": [
            "The intercept value:  [35.73025656]\n",
            "The slope value:  [[1.62509368]]\n"
          ]
        }
      ]
    },
    {
      "cell_type": "code",
      "metadata": {
        "id": "T80jYKX_7vEM"
      },
      "source": [
        "Ypre = LRegressor.predict(x_test)"
      ],
      "execution_count": null,
      "outputs": []
    },
    {
      "cell_type": "code",
      "metadata": {
        "colab": {
          "base_uri": "https://localhost:8080/",
          "height": 279
        },
        "id": "xj2gm8gm8Apl",
        "outputId": "776a5c1e-bed0-40ae-9c5e-01c9c8cadc21"
      },
      "source": [
        "tbl_countries.plot.scatter(x='AverageAirWaterQ',y='QualityOfLifeIndex')\n",
        "plt.scatter(x, y, color = \"purple\")\n",
        "plt.plot(x_test,Ypre,color='green')\n",
        "plt.show()"
      ],
      "execution_count": null,
      "outputs": [
        {
          "output_type": "display_data",
          "data": {
            "image/png": "[encoded data removed]",
            "text/plain": [
              "<Figure size 432x288 with 1 Axes>"
            ]
          },
          "metadata": {
            "needs_background": "light"
          }
        }
      ]
    },
    {
      "cell_type": "markdown",
      "metadata": {
        "id": "4CG2b5qi-eFp"
      },
      "source": [
        "Predecting the Accuracy"
      ]
    },
    {
      "cell_type": "code",
      "metadata": {
        "colab": {
          "base_uri": "https://localhost:8080/"
        },
        "id": "flhzIZTu8-va",
        "outputId": "2a66508e-5f96-4096-ede7-806f955717fe"
      },
      "source": [
        "#using Root Mean Squared Error, Mean Absolute Error, Mean Squared Error we can Evaluate it\n",
        "print('Mean Absolute Error: \\n', mean_absolute_error(Ypre,y_test))\n",
        "print('Mean Squared Error: \\n', mean_squared_error(Ypre,y_test))\n",
        "print('Root Mean Squared Error: \\n',np.sqrt(mean_squared_error(Ypre,y_test)))"
      ],
      "execution_count": null,
      "outputs": [
        {
          "output_type": "stream",
          "name": "stdout",
          "text": [
            "Mean Absolute Error: \n",
            " 20.60015008508658\n",
            "Mean Squared Error: \n",
            " 798.6756667201734\n",
            "Root Mean Squared Error: \n",
            " 28.26085042457451\n"
          ]
        }
      ]
    }
  ]
}